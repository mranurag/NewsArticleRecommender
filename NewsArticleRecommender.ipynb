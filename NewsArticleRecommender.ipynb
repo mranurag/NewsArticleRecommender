{
 "cells": [
  {
   "cell_type": "code",
   "execution_count": 495,
   "metadata": {
    "collapsed": true
   },
   "outputs": [],
   "source": [
    "# We are trying to create a viable solution for an existing business problem to provide better recommendatons to enhance the user experience andincrese\n",
    "# user interaction by capturing user interest in a more efficient way.\n",
    "# We have used a probabilistic approach called LDA(Linear Dirichlet Allocation) to identify hidden user interests and produce recommendations.\n",
    "# We have performed a series of data generation steps , data transformation steps and  programming to model the process to our needs.\n",
    "# we have tried giving the detailed description of all the steps but still it is bit messy :).\n",
    "# The final implementation is at the end  where we can simply give a user id and get the recommendations.\n",
    "# We have also handled the scenario for a new user(Cold Start) and provided the logic which we have followed."
   ]
  },
  {
   "cell_type": "code",
   "execution_count": 496,
   "metadata": {
    "collapsed": true
   },
   "outputs": [],
   "source": [
    "import pandas as pd\n",
    "import numpy as np\n",
    "import random\n",
    "import scipy\n",
    "import math\n",
    "import sklearn\n",
    "from nltk.corpus import stopwords\n",
    "from sklearn.feature_extraction.text import TfidfVectorizer\n",
    "from sklearn.metrics.pairwise import cosine_similarity\n",
    "from scipy.sparse.linalg import svds\n",
    "import matplotlib.pyplot as plt"
   ]
  },
  {
   "cell_type": "code",
   "execution_count": 497,
   "metadata": {
    "collapsed": true
   },
   "outputs": [],
   "source": [
    "#Below code will create the reqired Click stream data as per the Approximations described below.\n",
    "\n",
    "#Users - we are considering 10 users\n",
    "\n",
    "#User sessions - We have considered  that a user can login in a range of 1 to 5.\n",
    "#    This should follow a discrete distribution. Login -[1,2,3,4,5]  Prior Prob - [.3,.25,.2,.15,.1]\n",
    "\n",
    "# Article ID -  we alrady have our articles. We are taking random sample without replacement from the available articles in such a way\n",
    "#    that no article which was ever served to user will be available for sampling.\n",
    "\n",
    "# Rank -  In every session 10 articles are being served to user, so each article will be assigned a rank from range 1 to 10 randomly following \n",
    "#    a discrete distribution with equal probabilities.\n",
    "\n",
    "# Click - We are considering click distribution as a discrete distribution with equal probabilities. \n",
    "#     Click -[\"Yes\",\"No\"] Prior prob -[.5,.5]\n",
    "\n",
    "# TimeSpent - we have considered this as a mixture of three distributions and selected the sample from this mixture model for all Articles.\n",
    "#      Details are provided in code\n",
    "\n",
    "# Date - Static dates were added to include efect of time "
   ]
  },
  {
   "cell_type": "code",
   "execution_count": 8,
   "metadata": {
    "collapsed": false
   },
   "outputs": [],
   "source": [
    "# creating clickstream data\n",
    "# I am estimating 10 users. ranging from id 1 to 10\n",
    "# first of all create 6 entries for each visit category where each user can appear those many times\n",
    "\n",
    "appear = [1,2,3,4,5]\n",
    "appearProb = [.3,.25,.2,.15,.1]\n",
    "appearEntries = list(np.random.choice(appear,6,p=appearProb))\n",
    "#now when we have our visit categories , we will randomly select a category from this array  for every user to crate those many sessions\n",
    "numVisits = random.sample(appearEntries,1)\n",
    "Users = list(range(1,11))\n",
    "UserVisitDict ={}\n",
    "for u in Users:\n",
    "    numVisits = random.sample(appearEntries,1)\n",
    "    UserVisitDict[u] =numVisits[0]\n",
    "# now we can generate random rank that the item will have from a given list of 1 to 10,this is a bit tricky as we want to generate a random but unrepeated rank\n",
    "#from a list of 1 to 10\n",
    "def getRank():\n",
    "    retlist = random.sample(range(1,11),10)\n",
    "    return retlist\n",
    "# now we can select news articles randomly to place against the ranks\n",
    "news_df =pd.read_csv(\"D:\\\\Recommendation engine\\\\news_articles.csv\")\n",
    "ArticleId = news_df.Article_Id\n",
    "ArticleId =set(ArticleId)\n",
    "# now we have our user and estimated visits , we can create the entries for them to fill remaing variables\n",
    "from itertools import repeat\n",
    "UserID =[]\n",
    "VisitID =[]\n",
    "rankList =[]\n",
    "UserArticles=[]\n",
    "DateList =[]\n",
    "\n",
    "for k in UserVisitDict.keys():\n",
    "    val = UserVisitDict[k]\n",
    "    UArticleId = ArticleId.copy()\n",
    "    tempArticles=[]\n",
    "    for v in range(val):\n",
    "        v1=v+1\n",
    "        UserID.extend(repeat(k,10))\n",
    "        VisitID.extend(repeat(v1,10))\n",
    "        rankList.extend(getRank())\n",
    "        dateVar =  str(str(v1)+\"-03-2018\")\n",
    "        DateList.extend(repeat(dateVar,10))\n",
    "        for i in range(10):\n",
    "            \n",
    "            articles = random.sample(UArticleId,1)[0]\n",
    "            tempArticles.append(articles)\n",
    "            \n",
    "            UArticleId = list(set(UArticleId).difference(tempArticles))\n",
    "        \n",
    "        \n",
    "    UserArticles.extend(tempArticles) \n",
    "# creating USer daatframe\n",
    "UserDfGenerated = pd.DataFrame({\"UserID\":UserID,\"SessionID\":VisitID,\"Rank\":rankList,\"Article_Id\":UserArticles,\"Date\":DateList})\n",
    "#Now i want to generate clicks for these articles. I am considering that upon being displayed to the user, each article has equal prob of being clicked or not\n",
    "# prob of user clicking an article=.5\n",
    "# prob of user not clicking an article=.5\n",
    "# under these circumstances , we can then sample for click status from a discrete distribution having these probabiliies\n",
    "distributionClick = np.random.choice([\"Yes\",\"No\"],UserDfGenerated.shape[0],p=[.5,.5])        \n",
    "UserDfGenerated[\"Click\"] = distributionClick\n",
    "# we now need to generate data for the time spent variable\n",
    "# we think that there are three knid of users\n",
    "# First- who just click and move away having mean time 40 secs and std Dev 20\n",
    "# second - who click on an article , review the content for some time and go away if they do not like it  having mean of 80 seconds and std dev 10\n",
    "# third - who click on an article, review it thoroughly and then move if they don't like it otherwise will stay with mean of 140 sec and std dev 20\n",
    "# we will use the mixtre model to generate this data for our time spent column\n",
    "import scipy.stats\n",
    "myComps = (scipy.stats.norm(40,20),scipy.stats.norm(80,10),scipy.stats.norm(140,20))\n",
    "priorProb=  [.3,.4,.3]# we are just considering this prob distribution\n",
    "\n",
    "def genSample(size,myComps,priorProb):\n",
    "    myData = np.empty(0)\n",
    "    for comp,prior in zip(myComps,priorProb):\n",
    "        newData = comp.rvs(int(size*prior))\n",
    "        myData = np.append(myData,newData)\n",
    "    return myData\n",
    "timeSpenData = genSample(UserDfGenerated.shape[0],myComps,priorProb)\n",
    "\n",
    "UserDfGenerated[\"TimeSpent\"] = timeSpenData\n",
    "UserDfGenerated[\"TimeSpent\"] = UserDfGenerated[\"TimeSpent\"].astype(int)   \n",
    "# we have generated the timeSpent for the Articles which were not clicked, making them 0\n",
    "UserDfGenerated.loc[UserDfGenerated[\"Click\"]==\"No\",\"TimeSpent\"]= 0   \n",
    "UserDfGenerated.to_csv(\"D:\\\\Recommendation engine\\\\Users_generated.csv\")\n",
    "    \n",
    "    \n"
   ]
  },
  {
   "cell_type": "code",
   "execution_count": 498,
   "metadata": {
    "collapsed": true
   },
   "outputs": [],
   "source": [
    "# Reading the data again\n",
    "\n",
    "news_df =pd.read_csv(\"D:\\\\Recommendation engine\\\\news_articles.csv\")\n",
    "user_df =pd.read_csv(\"D:\\\\Recommendation engine\\\\Users_generated.csv\")\n",
    "\n",
    "\n",
    "# creating new fields for click \n",
    "\n",
    "# if clicked we give it weight 5 or 0\n",
    "\n",
    "clickedMapping = {\"Yes\":5,\"No\":0}\n",
    "\n",
    "user_df[\"actionStrength\"] = user_df.Click.map(clickedMapping)\n",
    "\n",
    "\n",
    "#Replacing missing values in timespent column by 0\n",
    "user_df.TimeSpent.fillna(0,inplace=True)\n",
    "\n"
   ]
  },
  {
   "cell_type": "code",
   "execution_count": 500,
   "metadata": {
    "collapsed": false
   },
   "outputs": [
    {
     "data": {
      "text/html": [
       "<div>\n",
       "<table border=\"1\" class=\"dataframe\">\n",
       "  <thead>\n",
       "    <tr style=\"text-align: right;\">\n",
       "      <th></th>\n",
       "      <th>UserID</th>\n",
       "      <th>SessionID</th>\n",
       "      <th>Article_Id</th>\n",
       "      <th>rankList</th>\n",
       "      <th>Click</th>\n",
       "      <th>TimeSpent</th>\n",
       "      <th>Date</th>\n",
       "      <th>actionStrength</th>\n",
       "      <th>timeEffect</th>\n",
       "      <th>TimeWeight</th>\n",
       "    </tr>\n",
       "  </thead>\n",
       "  <tbody>\n",
       "    <tr>\n",
       "      <th>0</th>\n",
       "      <td>1</td>\n",
       "      <td>1</td>\n",
       "      <td>2413</td>\n",
       "      <td>6</td>\n",
       "      <td>No</td>\n",
       "      <td>0</td>\n",
       "      <td>01-03-2018</td>\n",
       "      <td>0</td>\n",
       "      <td>Not Seen</td>\n",
       "      <td>0.0</td>\n",
       "    </tr>\n",
       "    <tr>\n",
       "      <th>1</th>\n",
       "      <td>1</td>\n",
       "      <td>1</td>\n",
       "      <td>2882</td>\n",
       "      <td>7</td>\n",
       "      <td>No</td>\n",
       "      <td>0</td>\n",
       "      <td>01-03-2018</td>\n",
       "      <td>0</td>\n",
       "      <td>Not Seen</td>\n",
       "      <td>0.0</td>\n",
       "    </tr>\n",
       "  </tbody>\n",
       "</table>\n",
       "</div>"
      ],
      "text/plain": [
       "   UserID  SessionID  Article_Id  rankList Click  TimeSpent        Date  \\\n",
       "0       1          1        2413         6    No          0  01-03-2018   \n",
       "1       1          1        2882         7    No          0  01-03-2018   \n",
       "\n",
       "   actionStrength timeEffect  TimeWeight  \n",
       "0               0   Not Seen         0.0  \n",
       "1               0   Not Seen         0.0  "
      ]
     },
     "execution_count": 500,
     "metadata": {},
     "output_type": "execute_result"
    }
   ],
   "source": [
    "#creating a category field for TimeSpent variable to better take the effect\n",
    "user_df[\"timeEffect\"] = pd.cut(user_df.TimeSpent,bins=[0,1,10,20,40,1000],include_lowest=True,labels=[\"Not Seen\",\"Small\",\"Moderate\",\"Liked\",\"Very much Liked\"])\n",
    "\n",
    "\n",
    "#Assigning weights for the timeSpent\n",
    "TimeSpentMapping = {\"Not Seen\":0,\"Small\":.5,\"Moderate\":2,\"Liked\":3,\"Very much Liked\":4}\n",
    "user_df[\"TimeWeight\"] = user_df[\"timeEffect\"].map(TimeSpentMapping)\n",
    "user_df.head(2)\n",
    "\n"
   ]
  },
  {
   "cell_type": "code",
   "execution_count": 501,
   "metadata": {
    "collapsed": false
   },
   "outputs": [
    {
     "data": {
      "text/html": [
       "<div>\n",
       "<table border=\"1\" class=\"dataframe\">\n",
       "  <thead>\n",
       "    <tr style=\"text-align: right;\">\n",
       "      <th></th>\n",
       "      <th>Article_Id</th>\n",
       "      <th>Title</th>\n",
       "      <th>Author</th>\n",
       "      <th>Date</th>\n",
       "      <th>Content</th>\n",
       "      <th>URL</th>\n",
       "      <th>storylength</th>\n",
       "      <th>avgWordLen</th>\n",
       "    </tr>\n",
       "  </thead>\n",
       "  <tbody>\n",
       "    <tr>\n",
       "      <th>0</th>\n",
       "      <td>0</td>\n",
       "      <td>14 dead after bus falls into canal in Telangan...</td>\n",
       "      <td>Devyani Sultania</td>\n",
       "      <td>August 22, 2016 12:34 IST</td>\n",
       "      <td>At least 14 people died and 17 others were inj...</td>\n",
       "      <td>http://www.ibtimes.co.in/14-dead-after-bus-fal...</td>\n",
       "      <td>233</td>\n",
       "      <td>5</td>\n",
       "    </tr>\n",
       "    <tr>\n",
       "      <th>1</th>\n",
       "      <td>1</td>\n",
       "      <td>Pratibha Tiwari molested on busy road   Saath ...</td>\n",
       "      <td>Suparno Sarkar</td>\n",
       "      <td>August 22, 2016 19:47 IST</td>\n",
       "      <td>TV actress Pratibha Tiwari  who is best known ...</td>\n",
       "      <td>NaN</td>\n",
       "      <td>231</td>\n",
       "      <td>4</td>\n",
       "    </tr>\n",
       "    <tr>\n",
       "      <th>2</th>\n",
       "      <td>2</td>\n",
       "      <td>US  South Korea begin joint military drill ami...</td>\n",
       "      <td>Namrata Tripathi</td>\n",
       "      <td>August 22, 2016 18:10 IST</td>\n",
       "      <td>The United States and South Korea began a join...</td>\n",
       "      <td>http://www.ibtimes.co.in/us-south-korea-begin-...</td>\n",
       "      <td>247</td>\n",
       "      <td>5</td>\n",
       "    </tr>\n",
       "  </tbody>\n",
       "</table>\n",
       "</div>"
      ],
      "text/plain": [
       "   Article_Id                                              Title  \\\n",
       "0           0  14 dead after bus falls into canal in Telangan...   \n",
       "1           1  Pratibha Tiwari molested on busy road   Saath ...   \n",
       "2           2  US  South Korea begin joint military drill ami...   \n",
       "\n",
       "             Author                       Date  \\\n",
       "0  Devyani Sultania  August 22, 2016 12:34 IST   \n",
       "1    Suparno Sarkar  August 22, 2016 19:47 IST   \n",
       "2  Namrata Tripathi  August 22, 2016 18:10 IST   \n",
       "\n",
       "                                             Content  \\\n",
       "0  At least 14 people died and 17 others were inj...   \n",
       "1  TV actress Pratibha Tiwari  who is best known ...   \n",
       "2  The United States and South Korea began a join...   \n",
       "\n",
       "                                                 URL  storylength  avgWordLen  \n",
       "0  http://www.ibtimes.co.in/14-dead-after-bus-fal...          233           5  \n",
       "1                                                NaN          231           4  \n",
       "2  http://www.ibtimes.co.in/us-south-korea-begin-...          247           5  "
      ]
     },
     "execution_count": 501,
     "metadata": {},
     "output_type": "execute_result"
    }
   ],
   "source": [
    "# find length of the News( number of words in it)\n",
    "news_df[\"storylength\"] = news_df[\"Content\"].apply(lambda x: len(str(x).split(\" \")))\n",
    "\n",
    "# find average word length(to make more suitable clusters based on complexity of words)\n",
    "def avgWordLength(sentence):\n",
    "    words = sentence.split(\" \")\n",
    "    avgLength = round((sum(len(word) for word in words)/len(words)))\n",
    "    return avgLength\n",
    "news_df[\"avgWordLen\"]= news_df[\"Content\"].apply(avgWordLength)\n",
    "news_df.head(3)"
   ]
  },
  {
   "cell_type": "code",
   "execution_count": 502,
   "metadata": {
    "collapsed": true
   },
   "outputs": [],
   "source": [
    "# creating Document term matrix for news articles for further analysis and clustering\n",
    "from sklearn.feature_extraction.text import  TfidfVectorizer,CountVectorizer\n",
    "from sklearn.cluster import  KMeans\n",
    "vectorizer  = CountVectorizer(analyzer=\"word\",ngram_range=(1,3),min_df=.003, max_df=0.5, max_features=7000,stop_words=\"english\")\n",
    "newsId = news_df[\"Article_Id\"]\n",
    "tfIDFMatrix =  vectorizer.fit_transform(news_df[\"Title\"]+\"\"+news_df[\"Content\"])\n",
    "\n",
    "# we re using vectorizer as we will use LDA to find latent features to describe these articles\n",
    "\n",
    "tfIDFMatrix_mesureNames = vectorizer.get_feature_names()"
   ]
  },
  {
   "cell_type": "code",
   "execution_count": 503,
   "metadata": {
    "collapsed": true
   },
   "outputs": [],
   "source": [
    "from sklearn.decomposition import LatentDirichletAllocation\n",
    "#LDA requires number of topics which we think are necessary to represent these articles effectively, I am considering 6 for simplicity\n",
    "n_Topics =6\n",
    "lda = LatentDirichletAllocation(n_components= n_Topics,max_iter=5,learning_method=\"online\",learning_offset=50,random_state=10).fit(tfIDFMatrix)"
   ]
  },
  {
   "cell_type": "code",
   "execution_count": 504,
   "metadata": {
    "collapsed": true
   },
   "outputs": [],
   "source": [
    "# WordToTopicMat will have probability distribution among words and topics \n",
    "WordToTopicMat = lda.components_\n",
    "# TopicToDocMat will have probability distribution among Articles and topics \n",
    "TopicToDocMat =lda.transform(tfIDFMatrix)"
   ]
  },
  {
   "cell_type": "code",
   "execution_count": 505,
   "metadata": {
    "collapsed": true
   },
   "outputs": [],
   "source": [
    "# we can visualise these Topics and the associated probabilities using multidimensional scaling\n",
    "import pyLDAvis\n",
    "import pyLDAvis.sklearn\n",
    "# Converting Topic document matrix into a dataframe to visualise these topics\n",
    "lDAModelVis = pd.DataFrame(TopicToDocMat)\n",
    "pyLDAvis.enable_notebook()"
   ]
  },
  {
   "cell_type": "code",
   "execution_count": 506,
   "metadata": {
    "collapsed": false
   },
   "outputs": [
    {
     "data": {
      "text/html": [
       "\n",
       "<link rel=\"stylesheet\" type=\"text/css\" href=\"https://cdn.rawgit.com/bmabey/pyLDAvis/files/ldavis.v1.0.0.css\">\n",
       "\n",
       "\n",
       "<div id=\"ldavis_el1917619117145447609367657542\"></div>\n",
       "<script type=\"text/javascript\">\n",
       "\n",
       "var ldavis_el1917619117145447609367657542_data = {\"mdsDat\": {\"topics\": [1, 2, 3, 4, 5, 6], \"cluster\": [1, 1, 1, 1, 1, 1], \"Freq\": [28.5436546059533, 20.15424791312172, 16.194737651368825, 13.758649260655012, 11.94189896278115, 9.40681160611999], \"x\": [1.6362738609313965, 63.96723556518555, -7.457329750061035, 87.77638244628906, -90.12400817871094, -45.98118591308594], \"y\": [-0.7842389345169067, -71.10482025146484, 92.74346160888672, 36.765804290771484, 19.46888542175293, -81.79483795166016]}, \"lambda.step\": 0.01, \"plot.opts\": {\"ylab\": \"PC2\", \"xlab\": \"PC1\"}, \"R\": 30, \"tinfo\": {\"loglift\": [30.0, 29.0, 28.0, 27.0, 26.0, 25.0, 24.0, 23.0, 22.0, 21.0, 20.0, 19.0, 18.0, 17.0, 16.0, 15.0, 14.0, 13.0, 12.0, 11.0, 10.0, 9.0, 8.0, 7.0, 6.0, 5.0, 4.0, 3.0, 2.0, 1.0, 1.2533, 1.2531, 1.253, 1.2529, 1.2528, 1.2528, 1.2528, 1.2528, 1.2528, 1.2527, 1.2527, 1.2526, 1.2526, 1.2525, 1.2525, 1.2525, 1.2524, 1.2523, 1.2523, 1.2523, 1.2521, 1.252, 1.252, 1.2519, 1.2519, 1.2518, 1.2517, 1.2517, 1.2517, 1.2516, 1.2514, 1.2493, 1.2358, 1.2393, 1.2088, 1.2184, 1.2343, 1.2368, 1.2428, 1.1499, 1.2121, 1.1696, 1.2041, 1.1361, 1.1484, 0.5433, 0.9873, 0.5281, 1.5957, 1.5956, 1.5948, 1.5945, 1.5937, 1.5933, 1.5932, 1.5932, 1.5925, 1.5925, 1.5923, 1.5918, 1.5914, 1.5913, 1.5913, 1.5913, 1.5912, 1.5911, 1.5903, 1.59, 1.5893, 1.589, 1.589, 1.5888, 1.5888, 1.5882, 1.5878, 1.5878, 1.5875, 1.5874, 1.5712, 1.5839, 1.5795, 1.5741, 1.5772, 1.5826, 1.5756, 1.5747, 1.5566, 1.432, 1.4887, 1.5001, 1.4904, 1.5438, 1.4993, 1.4819, 1.5175, 1.351, 1.3514, 1.4882, 1.4143, 1.493, 1.0094, 1.3611, 1.1314, 1.3196, 1.2276, 1.2653, 0.6581, 0.994, 0.9972, 0.8206, 0.9824, 0.9442, 0.8572, 0.939, 0.9059, 1.0099, 0.7475, 0.5023, 0.838, 0.585, -0.2439, -0.1679, 1.8182, 1.8181, 1.8179, 1.8175, 1.8168, 1.8167, 1.8161, 1.8159, 1.8157, 1.8156, 1.8153, 1.8153, 1.8152, 1.8148, 1.8147, 1.8145, 1.8143, 1.8136, 1.8135, 1.8135, 1.8135, 1.8134, 1.8134, 1.8134, 1.8131, 1.8129, 1.8127, 1.8127, 1.8126, 1.8126, 1.8073, 1.8124, 1.8119, 1.8083, 1.8126, 1.8088, 1.7907, 1.8114, 1.8113, 1.8123, 1.7795, 1.7562, 1.7726, 1.7831, 1.776, 1.7376, 1.7773, 1.7406, 1.6591, 1.6016, 1.5891, 1.5197, 1.4783, 1.6171, 1.1926, 1.6091, 1.1713, 1.4494, 1.0554, 0.6586, 0.7157, 0.0173, 0.8153, 0.8832, -0.5485, 1.9799, 1.9799, 1.9799, 1.9795, 1.9793, 1.9791, 1.9787, 1.9777, 1.9777, 1.9766, 1.9759, 1.9755, 1.9755, 1.9755, 1.9749, 1.9748, 1.974, 1.9739, 1.9738, 1.9734, 1.9729, 1.9727, 1.9716, 1.9713, 1.9706, 1.9703, 1.9698, 1.9694, 1.9692, 1.969, 1.9601, 1.9654, 1.9675, 1.9575, 1.9451, 1.9149, 1.9201, 1.9229, 1.941, 1.9045, 1.9485, 1.9104, 1.9648, 1.9064, 1.9325, 1.9349, 1.9215, 1.8824, 1.8856, 1.8635, 1.852, 1.9094, 1.8345, 1.6844, 1.7336, 1.8334, 1.4085, 1.714, 1.038, 1.5125, 1.4711, 0.4274, 1.5083, 1.1792, 1.1711, 1.4744, 0.953, 0.7996, 0.5077, 0.8071, -0.3735, 0.9391, 2.1212, 2.1191, 2.1169, 2.1166, 2.1157, 2.1156, 2.1147, 2.1146, 2.1146, 2.1142, 2.114, 2.1137, 2.1132, 2.1128, 2.1124, 2.1124, 2.1121, 2.1118, 2.1108, 2.1101, 2.11, 2.1097, 2.1091, 2.1089, 2.1086, 2.1085, 2.1085, 2.1084, 2.1077, 2.1076, 2.1054, 2.1031, 2.1047, 2.1033, 2.1044, 2.0902, 2.0954, 2.0945, 2.1028, 2.0513, 2.0956, 2.0869, 2.0985, 2.0671, 2.0593, 1.9712, 2.0773, 2.0912, 1.9691, 2.0508, 2.0178, 2.0019, 1.9345, 2.0227, 1.6903, 1.8686, 1.7897, 2.0091, 1.8319, 1.5632, 1.6639, 1.4763, 1.7288, 1.5297, 1.5307, 1.3102, 1.7322, 1.6386, 1.4746, 0.4737, 1.6031, 1.5073, 1.5038, 0.1365, 1.1981, 0.2028, 0.8882, 2.3622, 2.362, 2.3603, 2.3602, 2.3594, 2.3586, 2.3585, 2.3582, 2.3575, 2.3563, 2.3563, 2.3561, 2.356, 2.3559, 2.3558, 2.3557, 2.3554, 2.355, 2.355, 2.3548, 2.3541, 2.3539, 2.3536, 2.3536, 2.3535, 2.3534, 2.3532, 2.3528, 2.3528, 2.3524, 2.3417, 2.3431, 2.3516, 2.3428, 2.348, 2.299, 2.2453, 2.3231, 2.2392, 2.2551, 2.197, 2.3019, 1.833, 2.0997, 1.8882, 1.6095, 1.9513, 1.845, 0.9518, 2.003, 1.7693, 1.6087, 1.0483, 1.6383, 1.5497, 1.7034, 1.3185, 1.2985, 0.8549, 0.2688, 1.7968], \"Category\": [\"Default\", \"Default\", \"Default\", \"Default\", \"Default\", \"Default\", \"Default\", \"Default\", \"Default\", \"Default\", \"Default\", \"Default\", \"Default\", \"Default\", \"Default\", \"Default\", \"Default\", \"Default\", \"Default\", \"Default\", \"Default\", \"Default\", \"Default\", \"Default\", \"Default\", \"Default\", \"Default\", \"Default\", \"Default\", \"Default\", \"Topic1\", \"Topic1\", \"Topic1\", \"Topic1\", \"Topic1\", \"Topic1\", \"Topic1\", \"Topic1\", \"Topic1\", \"Topic1\", \"Topic1\", \"Topic1\", \"Topic1\", \"Topic1\", \"Topic1\", \"Topic1\", \"Topic1\", \"Topic1\", \"Topic1\", \"Topic1\", \"Topic1\", \"Topic1\", \"Topic1\", \"Topic1\", \"Topic1\", \"Topic1\", \"Topic1\", \"Topic1\", \"Topic1\", \"Topic1\", \"Topic1\", \"Topic1\", \"Topic1\", \"Topic1\", \"Topic1\", \"Topic1\", \"Topic1\", \"Topic1\", \"Topic1\", \"Topic1\", \"Topic1\", \"Topic1\", \"Topic1\", \"Topic1\", \"Topic1\", \"Topic1\", \"Topic1\", \"Topic1\", \"Topic2\", \"Topic2\", \"Topic2\", \"Topic2\", \"Topic2\", \"Topic2\", \"Topic2\", \"Topic2\", \"Topic2\", \"Topic2\", \"Topic2\", \"Topic2\", \"Topic2\", \"Topic2\", \"Topic2\", \"Topic2\", \"Topic2\", \"Topic2\", \"Topic2\", \"Topic2\", \"Topic2\", \"Topic2\", \"Topic2\", \"Topic2\", \"Topic2\", \"Topic2\", \"Topic2\", \"Topic2\", \"Topic2\", \"Topic2\", \"Topic2\", \"Topic2\", \"Topic2\", \"Topic2\", \"Topic2\", \"Topic2\", \"Topic2\", \"Topic2\", \"Topic2\", \"Topic2\", \"Topic2\", \"Topic2\", \"Topic2\", \"Topic2\", \"Topic2\", \"Topic2\", \"Topic2\", \"Topic2\", \"Topic2\", \"Topic2\", \"Topic2\", \"Topic2\", \"Topic2\", \"Topic2\", \"Topic2\", \"Topic2\", \"Topic2\", \"Topic2\", \"Topic2\", \"Topic2\", \"Topic2\", \"Topic2\", \"Topic2\", \"Topic2\", \"Topic2\", \"Topic2\", \"Topic2\", \"Topic2\", \"Topic2\", \"Topic2\", \"Topic2\", \"Topic2\", \"Topic2\", \"Topic2\", \"Topic3\", \"Topic3\", \"Topic3\", \"Topic3\", \"Topic3\", \"Topic3\", \"Topic3\", \"Topic3\", \"Topic3\", \"Topic3\", \"Topic3\", \"Topic3\", \"Topic3\", \"Topic3\", \"Topic3\", \"Topic3\", \"Topic3\", \"Topic3\", \"Topic3\", \"Topic3\", \"Topic3\", \"Topic3\", \"Topic3\", \"Topic3\", \"Topic3\", \"Topic3\", \"Topic3\", \"Topic3\", \"Topic3\", \"Topic3\", \"Topic3\", \"Topic3\", \"Topic3\", \"Topic3\", \"Topic3\", \"Topic3\", \"Topic3\", \"Topic3\", \"Topic3\", \"Topic3\", \"Topic3\", \"Topic3\", \"Topic3\", \"Topic3\", \"Topic3\", \"Topic3\", \"Topic3\", \"Topic3\", \"Topic3\", \"Topic3\", \"Topic3\", \"Topic3\", \"Topic3\", \"Topic3\", \"Topic3\", \"Topic3\", \"Topic3\", \"Topic3\", \"Topic3\", \"Topic3\", \"Topic3\", \"Topic3\", \"Topic3\", \"Topic3\", \"Topic3\", \"Topic4\", \"Topic4\", \"Topic4\", \"Topic4\", \"Topic4\", \"Topic4\", \"Topic4\", \"Topic4\", \"Topic4\", \"Topic4\", \"Topic4\", \"Topic4\", \"Topic4\", \"Topic4\", \"Topic4\", \"Topic4\", \"Topic4\", \"Topic4\", \"Topic4\", \"Topic4\", \"Topic4\", \"Topic4\", \"Topic4\", \"Topic4\", \"Topic4\", \"Topic4\", \"Topic4\", \"Topic4\", \"Topic4\", \"Topic4\", \"Topic4\", \"Topic4\", \"Topic4\", \"Topic4\", \"Topic4\", \"Topic4\", \"Topic4\", \"Topic4\", \"Topic4\", \"Topic4\", \"Topic4\", \"Topic4\", \"Topic4\", \"Topic4\", \"Topic4\", \"Topic4\", \"Topic4\", \"Topic4\", \"Topic4\", \"Topic4\", \"Topic4\", \"Topic4\", \"Topic4\", \"Topic4\", \"Topic4\", \"Topic4\", \"Topic4\", \"Topic4\", \"Topic4\", \"Topic4\", \"Topic4\", \"Topic4\", \"Topic4\", \"Topic4\", \"Topic4\", \"Topic4\", \"Topic4\", \"Topic4\", \"Topic4\", \"Topic4\", \"Topic4\", \"Topic4\", \"Topic5\", \"Topic5\", \"Topic5\", \"Topic5\", \"Topic5\", \"Topic5\", \"Topic5\", \"Topic5\", \"Topic5\", \"Topic5\", \"Topic5\", \"Topic5\", \"Topic5\", \"Topic5\", \"Topic5\", \"Topic5\", \"Topic5\", \"Topic5\", \"Topic5\", \"Topic5\", \"Topic5\", \"Topic5\", \"Topic5\", \"Topic5\", \"Topic5\", \"Topic5\", \"Topic5\", \"Topic5\", \"Topic5\", \"Topic5\", \"Topic5\", \"Topic5\", \"Topic5\", \"Topic5\", \"Topic5\", \"Topic5\", \"Topic5\", \"Topic5\", \"Topic5\", \"Topic5\", \"Topic5\", \"Topic5\", \"Topic5\", \"Topic5\", \"Topic5\", \"Topic5\", \"Topic5\", \"Topic5\", \"Topic5\", \"Topic5\", \"Topic5\", \"Topic5\", \"Topic5\", \"Topic5\", \"Topic5\", \"Topic5\", \"Topic5\", \"Topic5\", \"Topic5\", \"Topic5\", \"Topic5\", \"Topic5\", \"Topic5\", \"Topic5\", \"Topic5\", \"Topic5\", \"Topic5\", \"Topic5\", \"Topic5\", \"Topic5\", \"Topic5\", \"Topic5\", \"Topic5\", \"Topic5\", \"Topic5\", \"Topic5\", \"Topic5\", \"Topic6\", \"Topic6\", \"Topic6\", \"Topic6\", \"Topic6\", \"Topic6\", \"Topic6\", \"Topic6\", \"Topic6\", \"Topic6\", \"Topic6\", \"Topic6\", \"Topic6\", \"Topic6\", \"Topic6\", \"Topic6\", \"Topic6\", \"Topic6\", \"Topic6\", \"Topic6\", \"Topic6\", \"Topic6\", \"Topic6\", \"Topic6\", \"Topic6\", \"Topic6\", \"Topic6\", \"Topic6\", \"Topic6\", \"Topic6\", \"Topic6\", \"Topic6\", \"Topic6\", \"Topic6\", \"Topic6\", \"Topic6\", \"Topic6\", \"Topic6\", \"Topic6\", \"Topic6\", \"Topic6\", \"Topic6\", \"Topic6\", \"Topic6\", \"Topic6\", \"Topic6\", \"Topic6\", \"Topic6\", \"Topic6\", \"Topic6\", \"Topic6\", \"Topic6\", \"Topic6\", \"Topic6\", \"Topic6\", \"Topic6\", \"Topic6\", \"Topic6\", \"Topic6\", \"Topic6\", \"Topic6\"], \"logprob\": [30.0, 29.0, 28.0, 27.0, 26.0, 25.0, 24.0, 23.0, 22.0, 21.0, 20.0, 19.0, 18.0, 17.0, 16.0, 15.0, 14.0, 13.0, 12.0, 11.0, 10.0, 9.0, 8.0, 7.0, 6.0, 5.0, 4.0, 3.0, 2.0, 1.0, -4.5476, -4.9969, -5.32, -5.3411, -5.2762, -5.4594, -4.999, -5.5377, -5.5483, -5.6144, -5.5899, -5.6531, -5.7102, -5.7791, -4.9958, -5.8219, -5.8548, -5.8498, -5.9083, -5.9348, -6.0472, -6.1113, -6.1304, -6.1771, -6.0461, -6.1742, -6.2882, -6.2163, -6.2923, -6.3217, -6.2063, -6.1236, -5.4935, -5.6796, -4.7404, -5.1902, -5.7989, -5.8788, -6.0006, -4.8721, -5.6631, -5.3096, -5.666, -5.2291, -5.6349, -5.1077, -5.7018, -5.8026, -6.7537, -6.9104, -6.8306, -6.6347, -7.0819, -7.2131, -6.3397, -7.0215, -7.3457, -7.3728, -7.3329, -7.4056, -6.8347, -7.4958, -7.5117, -5.7009, -7.2407, -7.3389, -6.7619, -7.5437, -7.5116, -7.6971, -7.6133, -6.9593, -7.6753, -6.2855, -7.7921, -7.6544, -7.8067, -7.8263, -5.3756, -6.679, -6.7122, -6.2612, -6.8847, -7.2975, -6.9836, -7.0473, -6.7729, -4.7882, -5.7488, -5.9936, -5.9821, -6.7995, -6.3731, -6.3313, -6.6685, -5.3745, -5.5301, -6.4997, -6.0505, -6.5494, -4.0231, -5.8679, -4.7671, -5.983, -5.7998, -5.9265, -4.2642, -5.2411, -5.4612, -5.1163, -5.465, -5.4016, -5.6565, -5.8005, -5.769, -5.9595, -5.8024, -5.7147, -5.9839, -5.8666, -5.7028, -5.8189, -5.7967, -5.2478, -5.3793, -4.4882, -6.237, -5.7948, -6.464, -6.5116, -6.3738, -6.5702, -6.4762, -6.4503, -6.6408, -6.6795, -6.6797, -6.7592, -6.6036, -6.7938, -6.8452, -6.7093, -6.3821, -6.9329, -6.8275, -6.2366, -5.4529, -6.8909, -6.4809, -7.0248, -6.5236, -7.039, -4.9191, -5.5911, -5.5524, -5.2391, -5.9248, -5.5865, -3.9093, -5.9626, -6.0184, -6.1418, -4.3298, -4.6948, -5.579, -5.9876, -6.173, -5.8646, -6.2009, -5.9768, -5.5371, -5.5764, -5.7364, -5.5503, -5.7491, -5.9994, -5.5089, -6.0115, -5.6274, -5.8893, -5.6613, -5.5465, -5.6058, -5.4416, -5.709, -5.7369, -5.581, -5.7944, -4.3232, -5.701, -5.9687, -5.9493, -6.2618, -6.1203, -6.3986, -6.361, -6.6414, -6.4984, -6.7781, -6.7285, -4.7542, -6.7657, -6.8571, -7.0077, -7.0561, -7.0651, -7.0951, -7.1288, -7.1483, -7.2703, -7.0569, -7.1266, -7.3611, -7.3705, -7.4345, -7.3471, -6.9779, -5.1687, -6.2772, -6.9353, -6.0385, -5.0125, -3.8767, -5.0253, -5.1857, -5.9197, -4.7467, -6.2238, -5.5318, -6.8453, -5.6621, -6.1828, -6.235, -6.0127, -5.4316, -5.5529, -5.4989, -5.5417, -6.0758, -5.7338, -5.2147, -5.4447, -5.8488, -4.92, -5.6516, -4.4209, -5.4624, -5.5037, -4.4949, -5.7001, -5.5068, -5.51, -5.6914, -5.4544, -5.3947, -5.3909, -5.5236, -5.406, -5.6255, -5.5027, -6.432, -6.7299, -6.7902, -6.8663, -5.0633, -6.9646, -7.0113, -5.2145, -6.8869, -7.0636, -6.5382, -7.0362, -7.1263, -7.1724, -6.8678, -7.1315, -6.3756, -7.3209, -5.9016, -7.2712, -7.3665, -7.1899, -7.2195, -7.4036, -7.3996, -7.2877, -6.9062, -7.211, -5.4875, -4.4397, -5.8278, -6.4986, -6.5363, -6.706, -5.3659, -6.3057, -6.3165, -6.9009, -5.5306, -6.7038, -6.5595, -6.7984, -6.2024, -6.2953, -5.2884, -6.5811, -6.7269, -5.6025, -6.3462, -6.0549, -5.9374, -5.7353, -6.2847, -4.591, -5.649, -5.3193, -6.2962, -5.728, -4.8884, -5.2062, -4.7407, -5.5596, -5.1517, -5.2873, -4.9248, -5.7555, -5.695, -5.5974, -4.5587, -5.7863, -5.7128, -5.7696, -5.3224, -5.7277, -5.6958, -5.7425, -4.4323, -4.4148, -4.9971, -5.2807, -5.7645, -6.0553, -5.8083, -5.9032, -6.239, -5.8791, -6.4235, -6.4812, -6.2858, -6.3866, -5.8934, -6.451, -6.5431, -5.7133, -6.5884, -6.5228, -6.7113, -6.7095, -6.2429, -6.6336, -5.3706, -6.7681, -6.7392, -6.4065, -5.5507, -6.8179, -4.96, -5.3406, -6.5493, -5.8156, -6.251, -5.2603, -5.4373, -6.2821, -5.7045, -5.8541, -5.6532, -6.1965, -4.5356, -5.4819, -5.129, -4.5848, -5.4456, -5.4268, -3.9705, -5.6914, -5.3275, -5.3099, -4.8885, -5.3902, -5.3761, -5.5123, -5.3936, -5.476, -5.3503, -5.1901, -5.6957], \"Total\": [2530.0, 2309.0, 5507.0, 2287.0, 1680.0, 1384.0, 1380.0, 1086.0, 4932.0, 862.0, 847.0, 1194.0, 1972.0, 1460.0, 1462.0, 1457.0, 903.0, 1414.0, 1504.0, 1481.0, 1543.0, 977.0, 2074.0, 906.0, 1296.0, 1508.0, 3220.0, 1193.0, 1833.0, 1104.0, 2287.54078012557, 1460.0698239319217, 1056.981467145213, 1035.0035662950602, 1104.4640312732047, 919.5803619396634, 1457.2840901686714, 850.381976996366, 841.4130688093632, 787.675045680413, 807.2335468824361, 757.8667466917315, 715.810284071779, 668.1970070571567, 1462.4516639042888, 640.2120348501168, 619.5295708115948, 622.641576879487, 587.3129523138253, 571.9477950202177, 511.25155781711914, 479.56426792246003, 470.47835760537447, 449.06870751481154, 511.94853551955595, 450.3791147088765, 401.91892109344417, 431.8778552401528, 400.2947958981984, 388.71094982382556, 436.3801410376377, 475.00072226538924, 904.0551967759618, 747.9116078751001, 1972.305466827779, 1245.8224392927268, 667.1292322181989, 614.3454778316084, 540.6662204775208, 1833.9034218215236, 781.3279141113514, 1160.875022980608, 785.2811270582786, 1301.060819765619, 856.5197185084376, 2657.5366035779775, 941.1576880760051, 1346.7156295860727, 178.89580448646512, 152.95443139243793, 165.79726670396178, 201.7460617723093, 129.0963938842605, 113.27466640267295, 271.2852747642497, 137.2055604806718, 99.28254620521021, 96.62762447588885, 100.58194118532299, 93.57598948601064, 165.684058135022, 85.53992272999379, 84.19738846051352, 514.879937731862, 110.41827208350259, 100.1026050341469, 178.37418516706174, 81.64892215781884, 84.37294618713014, 70.11078459059507, 76.23531333852975, 146.6545342144151, 71.67532434577397, 287.8536008850534, 63.832407877163014, 73.2544558256243, 62.921240332841094, 61.713167262889904, 727.3434195702749, 195.047255927162, 189.52047583366783, 299.14035101101484, 159.85065580131007, 105.22024821018672, 145.03575214811283, 136.21113892754676, 182.4777510484545, 1504.2318362647372, 543.8289833310802, 420.94009173605104, 429.9788315612004, 179.97395098648394, 288.2411857990034, 305.8095369634601, 210.6496774082387, 907.4834368609587, 776.3615896526428, 256.79897484119124, 433.295588841422, 243.1653192259873, 4932.8959045111305, 548.4827581054764, 2074.770670619577, 509.54979334577394, 670.9700924494555, 569.2941389806782, 5507.6190935208415, 1481.9092438526766, 1185.309702861969, 1996.879408290975, 1198.4140621293202, 1326.587082941099, 1121.608275517786, 894.8303883352338, 954.648156524751, 711.0554256522788, 1081.6829027010608, 1508.9422504609902, 824.1226945434621, 1193.4005884465446, 3220.5186289287317, 2657.5366035779775, 372.8611523050449, 645.6503033596088, 566.2284386955455, 1380.8675589263084, 240.4233007177535, 374.1568252994492, 191.72543558274376, 182.84882628150618, 209.90817996561375, 172.49311187455208, 189.5434863877685, 194.52863331939528, 160.80310606746062, 154.7571259937086, 154.7528619593519, 142.93319452057906, 167.03582383169058, 138.20648729153964, 131.2902569521846, 150.41166324628657, 208.63431446185083, 120.28449038715183, 133.6509402943867, 241.33297497298304, 528.5634582686727, 125.49706085173838, 189.14923659133188, 109.7937485114999, 181.26275082564865, 108.26459935158478, 906.6600093646853, 460.6917829748249, 479.0568270560014, 657.7349905070932, 329.8960871033501, 464.4526527230289, 2530.362294312435, 318.04255487497414, 300.8163222233137, 265.61933512742684, 1680.5272869577268, 1194.1087392208951, 485.2073028004662, 319.0954137757024, 266.9714584932776, 377.641122738794, 259.2727952573332, 336.5435421393942, 566.8002686472868, 577.240979232341, 498.02890455104745, 643.0177663387717, 549.36275911745, 372.30196247212746, 929.4704082632345, 370.7781984383535, 843.4531172151598, 491.5120637860036, 915.4635504114023, 1526.9511068366817, 1359.229799263178, 3220.5186289287317, 1109.7065021446833, 1008.3938498867145, 4932.8959045111305, 317.9514175247297, 1384.4044488366817, 349.072305977356, 267.17885646375845, 272.48105112839295, 199.3952948803427, 229.80203411971016, 174.13697067541568, 180.82196192978563, 136.7496559799177, 157.88725111993503, 119.40909610400243, 125.48639602308309, 903.6302348587648, 120.97392231743055, 110.40878688409934, 95.05401315849261, 90.5717936687435, 89.775036916005, 87.15567728177938, 84.30282410979792, 82.68924115144553, 73.27503759063164, 90.74150307539053, 84.68752180741924, 67.00930464798236, 66.41289781900454, 62.32085424458955, 68.02040751509925, 98.42298762094848, 606.2771159189887, 199.05708782217656, 102.86135495937837, 254.7266005173639, 719.4562558832143, 2309.030307102149, 728.3390688055899, 618.6803961123283, 291.597243399735, 977.4436974321058, 213.5509296402793, 443.18394597132135, 112.85050657298117, 390.60291829477916, 226.07749551406246, 214.0640319307827, 270.94999070897313, 503.8305676832598, 444.82453255425384, 479.9953749979047, 465.18127778076814, 257.4849069616047, 390.6660394743935, 762.8897118063353, 577.0223532759803, 348.6170087622019, 1349.7574661562312, 478.4647281413959, 3220.5186289287317, 707.124496969577, 707.1983062368625, 5507.6190935208415, 559.9274992520238, 944.0030567152107, 948.7183388632293, 584.2771717839103, 1247.2869610547634, 1543.5120526121743, 2074.770670619577, 1346.7156295860727, 4932.8959045111305, 1065.9639621950114, 369.5435535959319, 146.22642827983066, 108.79029556464553, 102.44714540659267, 95.02479853936357, 576.6701360992034, 86.21271719382442, 82.29058059789007, 496.28464901357387, 93.23253176121213, 78.1442184496694, 132.1891973514184, 80.38041896576753, 73.47781306341295, 70.20205816822659, 95.20361583759977, 73.1524745292462, 155.82065139949628, 60.608190298725305, 250.76124949407102, 63.7540646315272, 57.969805607890144, 69.20998503898215, 67.2058240434162, 55.92239270286902, 56.1489978710777, 62.80029453683575, 91.97753146357667, 67.8626826628338, 380.3345691305674, 1086.8886418110703, 271.8422186756627, 138.7752279163201, 133.83794370274228, 112.81629046152612, 437.0632171443666, 169.8872216217961, 168.19447252191796, 92.98166499220429, 385.3914646382022, 114.06015395259142, 132.92581960911448, 103.4676261263592, 193.76302066509052, 177.9601168673026, 531.9124043775936, 131.3360099023955, 111.94810912089999, 389.3784979736339, 170.57116112902193, 235.9290727101608, 269.5940073093292, 352.9745305338447, 186.56608883145543, 1414.973250215587, 410.9878795157882, 618.4460036107214, 186.9640268534683, 393.94364632901323, 1193.4005884465446, 785.255257252064, 1508.9422504609902, 516.8327672775426, 948.3466214873532, 827.2965848494938, 1481.9092438526766, 423.4826363445965, 494.0197575231454, 641.755078050651, 4932.8959045111305, 467.1678023643899, 553.3721608362332, 524.6569079447901, 3220.5186289287317, 742.7609015838171, 2074.770670619577, 997.6489779311786, 847.0109944622513, 862.0769901955903, 482.3593781430264, 363.3136714758585, 224.12337873714, 167.7228204455958, 214.72297200494407, 195.34490491460735, 139.73117826105232, 200.50468232307688, 116.32519986170134, 109.8189324441195, 133.53210683408363, 120.7341492352222, 197.7428940242719, 113.24040574972953, 103.30617312405622, 236.94504023266958, 98.77019228074812, 105.48299807211073, 87.41727952559691, 87.59311909242436, 139.71630622290223, 94.5377588812255, 334.30330912705864, 82.65216305936796, 85.0974394047567, 118.72780421473844, 279.40752245174195, 78.71178153334596, 510.0652147441191, 348.1085810141258, 103.04926060190458, 216.52560990501325, 139.37485117469961, 394.20854165956223, 348.4491459339551, 138.50738215205917, 268.41214514480566, 227.4611325240576, 294.69400418008956, 154.1322330876463, 1296.6785322744745, 385.5149788980131, 677.8510618787429, 1543.5120526121743, 463.70503636875947, 525.4896343573731, 5507.6190935208415, 344.3973569829741, 626.0476068834067, 748.1578361308591, 1996.879408290975, 670.3042411914757, 742.7609015838171, 555.8275200231419, 919.7243710755475, 864.1070910914941, 1526.9511068366817, 3220.5186289287317, 421.45436679506975], \"Freq\": [2530.0, 2309.0, 5507.0, 2287.0, 1680.0, 1384.0, 1380.0, 1086.0, 4932.0, 862.0, 847.0, 1194.0, 1972.0, 1460.0, 1462.0, 1457.0, 903.0, 1414.0, 1504.0, 1481.0, 1543.0, 977.0, 2074.0, 906.0, 1296.0, 1508.0, 3220.0, 1193.0, 1833.0, 1104.0, 2286.6135641731885, 1459.0896370502246, 1056.1652075001402, 1034.1881565112487, 1103.4571701039129, 918.7304383072855, 1455.921947248878, 849.5683500667353, 840.5956387364087, 786.8603335714846, 806.3877270784413, 757.0065897095327, 714.9914646185108, 667.3582889566995, 1460.5976829109616, 639.3972991718465, 618.7109172681015, 621.7793722974344, 586.4995950766976, 571.120442759917, 510.4157770233969, 478.7459102307435, 469.6556898063584, 448.23031847912455, 510.98933726995534, 449.52365501991585, 401.10289544949234, 430.9965521056782, 399.461146515174, 387.89726335671105, 435.34527826140646, 472.88151674603347, 887.9824617045299, 737.1560820894296, 1885.621108557337, 1202.5313056981927, 654.2893054256994, 604.0107991915708, 534.7901100423885, 1653.0351981700828, 749.4316907345441, 1067.2235157069981, 747.2662821491506, 1156.6863877642645, 770.8974209458013, 1306.0521511446937, 721.0135581182224, 651.8613182380783, 177.81221499227323, 152.01860137020776, 164.64666490519286, 200.27824915951763, 128.05840053819813, 112.31740112732007, 268.9861581549363, 136.03131031339757, 98.37113163505887, 95.73609578467291, 99.63856580694521, 92.64993088525202, 163.98151756628994, 84.65317184096617, 83.32425536960113, 509.52110684746873, 109.26159509558262, 99.04100835997164, 176.35071449504957, 80.69721866555255, 83.32917879090142, 69.22422341765758, 75.26848177360462, 144.7643912068582, 70.74957348308479, 283.9828993853945, 62.94984562278534, 72.23766832512605, 62.03279209962619, 60.831538497395606, 705.429581584504, 191.60108693963835, 185.35063881028154, 290.9752941206093, 155.97154622898688, 103.22174351818622, 141.28968873988342, 132.57332127310212, 174.41859324651142, 1269.318732422379, 485.68608760655655, 380.2342527959202, 384.6511757422146, 169.84325286180012, 260.16635696107863, 271.268947436382, 193.6267957437543, 706.2177175290628, 604.421427366759, 229.2331615511151, 359.2231381565854, 218.1135416404967, 2728.0363734835832, 431.18877585473746, 1296.3139759150038, 384.28201349902383, 461.53640781881273, 406.6258703365267, 2143.4875524637655, 807.0077394793822, 647.5603639126145, 914.2862869357739, 645.1078719586178, 687.3287641217233, 532.6912934605112, 461.23027332196705, 476.01103439684783, 393.41803704544725, 460.36294461591194, 502.54228097270516, 383.95404884512715, 431.73295526547815, 508.5870766387147, 452.81269763828664, 372.0208863944395, 644.0899143950734, 564.7505141239475, 1376.7755398791805, 239.5307332864646, 372.7417787668105, 190.87768419092328, 182.01200833364837, 208.90544100131618, 171.6582829175895, 188.56576131381652, 193.52174820568143, 159.9547347415614, 153.88030891576892, 153.85313755733458, 142.0872862132696, 166.00776914620505, 137.25489276993017, 130.38020733574305, 149.36447703857323, 207.1765141691638, 119.44044958032265, 132.71155559299885, 239.61988264670183, 524.6898503084329, 124.552485276847, 187.6877252390958, 108.94328500522805, 179.847497763028, 107.4147340153648, 894.7676911490828, 456.9716392088857, 474.96255368495133, 649.76016210678, 327.30481900016304, 459.0715139017444, 2456.225952560106, 315.1674891860578, 298.05339750141184, 263.46239929378237, 1613.025279228919, 1119.7402365063438, 462.51672487429374, 307.3776503944711, 255.3639848842457, 347.61931442552043, 248.32426058917258, 310.7202715692793, 482.3270846797087, 463.7410737569385, 395.15508370762234, 475.96379527939075, 390.16920254787715, 303.7808371893349, 496.1009732538397, 300.1243247984518, 440.66235271949654, 339.1340567917532, 425.975995743392, 477.79625596248854, 450.2689630094903, 530.637048694303, 406.1346307892476, 394.9591539056281, 461.60304891516626, 316.80951074188977, 1379.4250673281078, 347.81613054474445, 266.1107112138901, 271.32817137035903, 198.51328190085022, 228.69109325974256, 173.12787485777372, 179.77305247382492, 135.81552527753806, 156.6956826563035, 118.46309334518664, 124.48774456728466, 896.4357292675755, 119.93639158534113, 109.45476562395416, 94.15463574206204, 89.70415787979431, 88.90689555981827, 86.28007804853821, 83.41765746549457, 81.80335601273599, 72.40741158464567, 89.63854369301642, 83.60293102220685, 66.12841652227276, 65.5100714330855, 61.445280388878, 67.05478766738858, 97.00805157453621, 592.2561250804339, 195.48357509256675, 101.2295603576023, 248.1865979644037, 692.3646778223635, 2155.959604508297, 683.5636751955223, 582.2904695051095, 279.47484766695476, 903.1965875390907, 206.19633823306617, 411.9514387891396, 110.75699723079569, 361.60544792955915, 214.82709607251965, 203.90379542616552, 254.66113009952912, 455.3625078667804, 403.33712895997604, 425.7223090095416, 407.8547476554639, 239.09053167016737, 336.5991267396995, 565.6440867560676, 449.4260429462885, 300.02844574454275, 759.49959942099, 365.4234003948901, 1251.1308519112454, 441.53012463842134, 423.65641813674534, 1161.8358728913809, 348.1263456076104, 422.3467790241628, 421.0131897355638, 351.17289491331854, 445.07447588606624, 472.4621761689948, 474.263801833789, 415.3079834541309, 467.1631918364816, 375.09893874002694, 368.0840657531473, 145.34213664309505, 107.89673650178803, 101.58318758413813, 94.13234821514831, 571.215545334482, 85.32304236745485, 81.4288460519346, 491.0717223380256, 92.21599846790919, 77.28014634011195, 130.6884910554351, 79.43084824692, 72.58058509573229, 69.31387948587626, 93.9982092273867, 72.20615294266173, 153.76093868072755, 59.748160932645604, 247.01875393568537, 62.794749979175805, 57.082761995013634, 68.10975410470486, 66.12736787497322, 55.007521323977414, 55.2244719608656, 61.76431240796621, 90.44990298847604, 66.69038102175273, 373.73069246705114, 1065.6262063404101, 265.934886118171, 135.97030472701545, 130.94352176352524, 110.50318192047624, 422.0663983122456, 164.90687541911765, 163.12772319997697, 90.9333144526879, 357.9520335949497, 110.74453228560141, 127.94387790188145, 100.751135475633, 182.84624620071543, 166.61957675051144, 456.0518383230447, 125.20987850207197, 108.21868148858415, 333.1272228903406, 158.36018387951452, 211.91184746282445, 238.33656494229697, 291.7159436649261, 168.39862786946614, 916.035038674662, 317.99948947148107, 442.2063566504623, 166.4772339100388, 293.83475237490376, 680.3757169692246, 495.12593059034305, 788.6915321338703, 347.7361791446987, 522.861227423788, 456.5922921080194, 656.0299755697331, 285.8781963867358, 303.69036102715387, 334.83691211614547, 946.0635282083211, 277.1914541835775, 298.3455043175306, 281.87661545070944, 440.83894664624285, 293.93186686756104, 303.4716063528549, 289.60315586368824, 845.7031861479512, 860.5878795518496, 480.7165520390603, 362.0459196060937, 223.1624446768413, 166.8566501387216, 213.6058975319824, 194.26995008160986, 138.85792284590508, 199.01155132865006, 115.45808122510586, 108.98648812344011, 132.50656589125455, 119.79689366328695, 196.1741488669214, 112.32882573436474, 102.44465884748472, 234.89298955627038, 97.9086111528045, 104.54519103099958, 86.58123680212155, 86.73657151469823, 138.31314430496633, 93.58141483800044, 330.9025842980679, 81.80094721001258, 84.20577054242831, 117.43724068442096, 276.37009264124544, 77.82704582747165, 498.9315613129063, 340.991120113885, 101.8098536839603, 212.049704402437, 137.1977656806321, 369.4943071580452, 309.54051642821435, 132.9928924728087, 236.97414956920684, 204.04586743090084, 249.4409237956769, 144.88566028573487, 762.6681843835486, 296.0514036612012, 421.33481461792115, 726.0445564102265, 306.9907473555179, 312.8059997531786, 1342.0129067398589, 240.09383129384696, 345.4831051190621, 351.6278291701494, 535.8764640860452, 324.4929455479689, 329.08990546424457, 287.1864527421057, 323.3831256052225, 297.8128132498196, 337.69835059702046, 396.3583031131266, 239.07074808561322], \"Term\": [\"film\", \"rs\", \"india\", \"android\", \"khan\", \"crore\", \"salman\", \"isis\", \"said\", \"olympics\", \"rio\", \"movie\", \"step\", \"smartphone\", \"galaxy\", \"device\", \"prices\", \"state\", \"police\", \"minister\", \"2016\", \"percent\", \"government\", \"actor\", \"world\", \"people\", \"year\", \"modi\", \"note\", \"samsung\", \"android\", \"smartphone\", \"rom\", \"custom\", \"samsung\", \"xiaomi\", \"device\", \"custom rom\", \"installation\", \"lollipop\", \"oneplus\", \"battery\", \"marshmallow\", \"moto\", \"galaxy\", \"android lollipop\", \"android marshmallow\", \"lenovo\", \"zip\", \"redmi\", \"samsung galaxy\", \"s6\", \"zenfone\", \"htc\", \"smartphones\", \"storage\", \"sd\", \"lg\", \"snapdragon\", \"sd card\", \"os\", \"flagship\", \"google\", \"devices\", \"step\", \"camera\", \"memory\", \"inch\", \"apps\", \"note\", \"recovery\", \"phone\", \"display\", \"features\", \"users\", \"new\", \"ram\", \"company\", \"pushkar\", \"jail\", \"tharoor\", \"rajan\", \"personnel\", \"sunanda\", \"jammu\", \"flights\", \"agencies\", \"plane\", \"cbi\", \"rajnath\", \"telecom\", \"lakhvi\", \"iaf\", \"kashmir\", \"cab\", \"nuclear\", \"investigation\", \"solar\", \"rajnath singh\", \"operators\", \"sunanda pushkar\", \"issued\", \"external affairs\", \"aircraft\", \"missile\", \"supreme court\", \"said government\", \"official said\", \"pakistan\", \"jammu kashmir\", \"authorities\", \"arrested\", \"valley\", \"executive\", \"dawood\", \"srinagar\", \"flight\", \"police\", \"case\", \"army\", \"ministry\", \"uber\", \"officials\", \"defence\", \"officer\", \"delhi\", \"security\", \"rape\", \"services\", \"pakistani\", \"said\", \"court\", \"government\", \"statement\", \"air\", \"mumbai\", \"india\", \"minister\", \"told\", \"indian\", \"reported\", \"according\", \"saying\", \"quoted\", \"report\", \"times\", \"country\", \"people\", \"years\", \"modi\", \"year\", \"new\", \"katrina\", \"actress\", \"salman khan\", \"salman\", \"trailer\", \"aamir\", \"kabir\", \"kaif\", \"alia\", \"katrina kaif\", \"kareena\", \"hrithik\", \"raees\", \"udta\", \"udta punjab\", \"sunny\", \"ranbir kapoor\", \"premam\", \"roshan\", \"bhatt\", \"deepika padukone\", \"nivin\", \"script\", \"padukone\", \"bollywood\", \"aishwarya\", \"karan\", \"kangana\", \"aamir khan\", \"pauly\", \"actor\", \"shah rukh\", \"rukh\", \"kapoor\", \"ranbir\", \"films\", \"film\", \"rukh khan\", \"shah rukh khan\", \"bachchan\", \"khan\", \"movie\", \"sultan\", \"song\", \"superstar\", \"deepika\", \"audience\", \"love\", \"shah\", \"star\", \"role\", \"director\", \"fans\", \"makers\", \"release\", \"story\", \"video\", \"photos\", \"seen\", \"time\", \"like\", \"year\", \"released\", \"reports\", \"said\", \"crude\", \"crore\", \"fiscal\", \"crude oil\", \"oil prices\", \"sensex\", \"rupee\", \"gdp\", \"crude oil prices\", \"stock markets\", \"bse\", \"litre\", \"dollar\", \"prices\", \"central bank\", \"gold prices\", \"gross\", \"suzuki\", \"net profit\", \"corresponding\", \"tata motors\", \"rate hike\", \"maruti suzuki\", \"current fiscal\", \"2015 16\", \"gdp growth\", \"renault\", \"bse sensex\", \"hatchback\", \"fiscal year\", \"growth\", \"decline\", \"index\", \"rbi\", \"oil\", \"rs\", \"bank\", \"lakh\", \"tata\", \"percent\", \"inflation\", \"rate\", \"motors\", \"sales\", \"profit\", \"000 crore\", \"economy\", \"markets\", \"units\", \"domestic\", \"billion\", \"collection\", \"stock\", \"market\", \"global\", \"increase\", \"2015\", \"quarter\", \"year\", \"december\", \"budget\", \"india\", \"business\", \"000\", \"month\", \"box\", \"10\", \"2016\", \"government\", \"company\", \"said\", \"expected\", \"bihar\", \"janata\", \"nitish\", \"rjd\", \"palmyra\", \"islamic\", \"nitish kumar\", \"grand alliance\", \"islamic state\", \"polls\", \"janata dal\", \"election\", \"mosul\", \"dadri\", \"bihar assembly\", \"dal\", \"bjp led\", \"iraqi\", \"rahul gandhi\", \"syrian\", \"lalu\", \"janata party\", \"yazidi\", \"baghdadi\", \"lynching\", \"raqqa\", \"assembly elections\", \"boko haram\", \"ramadi\", \"syria\", \"isis\", \"iraq\", \"pm ist\", \"human rights\", \"muslims\", \"bjp\", \"elections\", \"muslim\", \"boko\", \"al\", \"state group\", \"province\", \"kabul\", \"assembly\", \"gandhi\", \"pm\", \"afghan\", \"islamic state group\", \"leader\", \"girls\", \"afghanistan\", \"chief minister\", \"taliban\", \"alliance\", \"state\", \"children\", \"party\", \"seats\", \"congress\", \"modi\", \"killed\", \"people\", \"city\", \"group\", \"attack\", \"minister\", \"militants\", \"forces\", \"chief\", \"said\", \"prime minister\", \"prime\", \"family\", \"year\", \"women\", \"government\", \"reportedly\", \"rio\", \"olympics\", \"rio olympics\", \"medal\", \"olympic\", \"athletes\", \"olympics 2016\", \"rio olympics 2016\", \"pokemon\", \"tennis\", \"tournament\", \"federer\", \"brazil\", \"bopanna\", \"narsingh\", \"singles\", \"djokovic\", \"doubles\", \"wimbledon\", \"sindhu\", \"nadal\", \"gold medal\", \"cup\", \"world cup\", \"match\", \"murray\", \"paes\", \"finals\", \"saina\", \"medals\", \"game\", \"games\", \"doping\", \"sania\", \"bolt\", \"players\", \"win\", \"sushil\", \"japan\", \"australia\", \"round\", \"hockey\", \"world\", \"competition\", \"event\", \"2016\", \"won\", \"open\", \"india\", \"final\", \"best\", \"team\", \"indian\", \"gold\", \"women\", \"men\", \"set\", \"second\", \"time\", \"year\", \"great\"]}, \"topic.order\": [6, 4, 5, 2, 1, 3], \"token.table\": {\"Topic\": [1, 2, 3, 4, 5, 6, 2, 4, 1, 2, 3, 4, 5, 6, 1, 2, 3, 4, 5, 6, 4, 1, 2, 3, 4, 5, 6, 3, 3, 1, 2, 3, 4, 5, 6, 2, 3, 5, 3, 5, 2, 5, 2, 5, 2, 1, 2, 3, 4, 5, 6, 2, 4, 5, 3, 2, 5, 3, 2, 5, 1, 1, 1, 1, 2, 2, 5, 2, 5, 2, 5, 5, 6, 2, 3, 5, 6, 2, 3, 4, 5, 6, 2, 3, 4, 6, 2, 5, 3, 5, 5, 2, 4, 1, 1, 2, 3, 4, 5, 6, 3, 2, 5, 5, 2, 4, 6, 2, 5, 5, 2, 5, 2, 5, 2, 3, 4, 5, 1, 6, 6, 1, 2, 3, 4, 6, 6, 4, 4, 1, 2, 3, 4, 5, 6, 1, 2, 3, 4, 5, 6, 2, 1, 2, 3, 5, 1, 2, 3, 5, 6, 2, 4, 2, 4, 5, 6, 2, 5, 2, 3, 4, 5, 1, 2, 3, 4, 5, 6, 3, 4, 6, 1, 2, 3, 4, 6, 1, 2, 3, 4, 6, 1, 2, 5, 4, 1, 2, 3, 4, 5, 6, 2, 3, 5, 6, 2, 3, 4, 5, 4, 4, 4, 3, 6, 4, 1, 1, 5, 5, 2, 3, 5, 1, 2, 3, 4, 5, 6, 2, 4, 2, 3, 6, 2, 3, 2, 6, 1, 2, 3, 4, 5, 6, 1, 2, 1, 2, 5, 2, 3, 4, 5, 6, 1, 3, 5, 6, 6, 4, 2, 4, 6, 1, 6, 2, 4, 2, 5, 2, 5, 1, 2, 3, 4, 5, 6, 2, 6, 1, 2, 3, 4, 5, 6, 2, 2, 3, 4, 5, 6, 1, 3, 5, 6, 1, 2, 3, 4, 5, 6, 6, 2, 3, 4, 5, 6, 3, 4, 1, 2, 3, 4, 5, 6, 5, 6, 2, 4, 2, 4, 1, 6, 2, 6, 2, 2, 5, 1, 3, 3, 5, 6, 1, 6, 2, 4, 5, 4, 4, 2, 3, 5, 1, 2, 3, 4, 5, 6, 1, 4, 6, 6, 4, 1, 2, 3, 2, 4, 5, 5, 1, 2, 3, 4, 5, 6, 4, 2, 3, 4, 5, 6, 2, 4, 5, 6, 4, 3, 6, 3, 1, 2, 5, 2, 1, 3, 6, 1, 2, 3, 4, 6, 2, 4, 1, 2, 3, 4, 5, 6, 1, 2, 3, 4, 5, 6, 2, 4, 1, 2, 5, 2, 5, 6, 2, 5, 2, 5, 2, 5, 2, 5, 2, 5, 2, 5, 2, 2, 5, 2, 5, 5, 5, 5, 2, 4, 6, 3, 2, 5, 3, 3, 2, 3, 4, 2, 3, 3, 2, 5, 3, 3, 2, 3, 4, 5, 2, 3, 5, 2, 3, 4, 5, 6, 2, 5, 1, 2, 5, 1, 1, 1, 2, 3, 4, 5, 6, 4, 1, 1, 2, 3, 5, 6, 5, 1, 2, 3, 4, 5, 1, 2, 4, 6, 1, 2, 4, 5, 1, 4, 3, 4, 5, 6, 6, 6, 1, 2, 5, 2, 3, 5, 6, 2, 5, 2, 4, 5, 2, 4, 5, 6, 2, 2, 4, 5, 1, 2, 3, 4, 5, 6, 5, 1, 2, 4, 2, 3, 4, 6, 2, 3, 4, 5, 6, 6, 2, 3, 5, 2, 5, 6, 5, 6, 4, 1, 2, 3, 4, 5, 6, 5, 5, 3, 1, 2, 3, 4, 5, 6, 2, 2, 3, 5, 2, 2, 5, 6, 2, 4, 4, 6, 5, 6, 6, 1, 1, 2, 3, 4, 5, 6, 2, 1, 2, 3, 6, 2, 4, 6, 2, 3, 5, 6, 5, 1, 2, 3, 5, 6, 3, 1, 2, 3, 4, 5, 6, 1, 2, 4, 6, 2, 1, 2, 3, 5, 1, 2, 3, 4, 5, 6, 2, 2, 4, 6, 2, 3, 4, 5, 6, 2, 5, 6, 6, 2, 3, 5, 5, 3, 1, 2, 4, 1, 2, 4, 5, 6, 2, 5, 2, 3, 4, 2, 5, 2, 1, 2, 4, 6, 2, 3, 4, 5, 6, 3, 5, 2, 2, 2, 1, 2, 3, 4, 5, 6, 5, 2, 3, 3, 2, 5, 5, 1, 2, 4, 6, 4, 2, 4, 1, 4, 6, 1, 1, 2, 3, 4, 5, 6, 1, 2, 3, 4, 5, 6, 4, 1, 2, 3, 4, 5, 6, 1, 2, 3, 4, 5, 6, 1, 2, 3, 4, 5, 6, 1, 2, 3, 4, 5, 6, 5, 6, 5, 6, 6, 5, 2, 3, 4, 5, 6, 1, 3, 1, 2, 3, 4, 6, 1, 2, 3, 4, 5, 6, 2, 3, 2, 3, 4, 1, 1, 2, 3, 4, 5, 6, 2, 5, 6, 1, 4, 6, 2, 3, 5, 2, 3, 1, 1, 5, 6, 2, 3, 4, 5, 6, 3, 1, 1, 2, 4, 5, 1, 2, 3, 4, 5, 6, 1, 2, 5, 1, 2, 3, 4, 5, 6, 4, 1, 2, 4, 1, 2, 3, 4, 5, 6, 2, 3, 5, 6, 2, 3, 2, 3, 6, 6, 1, 1, 1, 2, 3, 6, 2, 5, 1, 2, 3, 5, 6, 1, 2, 3, 4, 5, 6, 2, 5, 1, 2, 3, 4, 5, 6, 1, 2, 3, 5, 6, 1, 2, 4, 6, 4, 1, 2, 3, 4, 5, 6, 2, 3, 6, 2, 2, 3, 3, 4, 6, 2, 5, 6, 4, 2, 5, 2, 5, 2, 5, 2, 4, 6, 4, 1, 2, 3, 5, 6, 1, 2, 5, 6, 2, 1, 2, 3, 4, 5, 6, 1, 2, 3, 4, 5, 6, 2, 3, 4, 5, 6, 6, 3, 2, 3, 5, 6, 3, 3, 1, 2, 4, 6, 1, 2, 3, 4, 5, 2, 5, 1, 2, 3, 5, 6, 6, 1, 3, 5, 6, 2, 3, 5, 6, 1, 2, 3, 4, 5, 6, 1, 2, 3, 4, 5, 6, 6, 1, 5, 1, 2, 3, 4, 5, 6, 1, 2, 3, 4, 5, 6, 1, 1], \"Term\": [\"000\", \"000\", \"000\", \"000\", \"000\", \"000\", \"000 crore\", \"000 crore\", \"10\", \"10\", \"10\", \"10\", \"10\", \"10\", \"2015\", \"2015\", \"2015\", \"2015\", \"2015\", \"2015\", \"2015 16\", \"2016\", \"2016\", \"2016\", \"2016\", \"2016\", \"2016\", \"aamir\", \"aamir khan\", \"according\", \"according\", \"according\", \"according\", \"according\", \"according\", \"actor\", \"actor\", \"actor\", \"actress\", \"actress\", \"afghan\", \"afghan\", \"afghanistan\", \"afghanistan\", \"agencies\", \"air\", \"air\", \"air\", \"air\", \"air\", \"air\", \"aircraft\", \"aircraft\", \"aircraft\", \"aishwarya\", \"al\", \"al\", \"alia\", \"alliance\", \"alliance\", \"android\", \"android lollipop\", \"android marshmallow\", \"apps\", \"apps\", \"army\", \"army\", \"arrested\", \"arrested\", \"assembly\", \"assembly\", \"assembly elections\", \"athletes\", \"attack\", \"attack\", \"attack\", \"attack\", \"audience\", \"audience\", \"audience\", \"audience\", \"audience\", \"australia\", \"australia\", \"australia\", \"australia\", \"authorities\", \"authorities\", \"bachchan\", \"bachchan\", \"baghdadi\", \"bank\", \"bank\", \"battery\", \"best\", \"best\", \"best\", \"best\", \"best\", \"best\", \"bhatt\", \"bihar\", \"bihar\", \"bihar assembly\", \"billion\", \"billion\", \"billion\", \"bjp\", \"bjp\", \"bjp led\", \"boko\", \"boko\", \"boko haram\", \"boko haram\", \"bollywood\", \"bollywood\", \"bollywood\", \"bollywood\", \"bolt\", \"bolt\", \"bopanna\", \"box\", \"box\", \"box\", \"box\", \"box\", \"brazil\", \"bse\", \"bse sensex\", \"budget\", \"budget\", \"budget\", \"budget\", \"budget\", \"budget\", \"business\", \"business\", \"business\", \"business\", \"business\", \"business\", \"cab\", \"camera\", \"camera\", \"camera\", \"camera\", \"case\", \"case\", \"case\", \"case\", \"case\", \"cbi\", \"central bank\", \"chief\", \"chief\", \"chief\", \"chief\", \"chief minister\", \"chief minister\", \"children\", \"children\", \"children\", \"children\", \"city\", \"city\", \"city\", \"city\", \"city\", \"city\", \"collection\", \"collection\", \"collection\", \"company\", \"company\", \"company\", \"company\", \"company\", \"competition\", \"competition\", \"competition\", \"competition\", \"competition\", \"congress\", \"congress\", \"congress\", \"corresponding\", \"country\", \"country\", \"country\", \"country\", \"country\", \"country\", \"court\", \"court\", \"court\", \"court\", \"crore\", \"crore\", \"crore\", \"crore\", \"crude\", \"crude oil\", \"crude oil prices\", \"cup\", \"cup\", \"current fiscal\", \"custom\", \"custom rom\", \"dadri\", \"dal\", \"dawood\", \"dawood\", \"dawood\", \"december\", \"december\", \"december\", \"december\", \"december\", \"december\", \"decline\", \"decline\", \"deepika\", \"deepika\", \"deepika\", \"deepika padukone\", \"deepika padukone\", \"defence\", \"defence\", \"delhi\", \"delhi\", \"delhi\", \"delhi\", \"delhi\", \"delhi\", \"device\", \"device\", \"devices\", \"devices\", \"devices\", \"director\", \"director\", \"director\", \"director\", \"director\", \"display\", \"display\", \"display\", \"display\", \"djokovic\", \"dollar\", \"domestic\", \"domestic\", \"doping\", \"doubles\", \"doubles\", \"economy\", \"economy\", \"election\", \"election\", \"elections\", \"elections\", \"event\", \"event\", \"event\", \"event\", \"event\", \"event\", \"executive\", \"executive\", \"expected\", \"expected\", \"expected\", \"expected\", \"expected\", \"expected\", \"external affairs\", \"family\", \"family\", \"family\", \"family\", \"family\", \"fans\", \"fans\", \"fans\", \"fans\", \"features\", \"features\", \"features\", \"features\", \"features\", \"features\", \"federer\", \"film\", \"film\", \"film\", \"film\", \"film\", \"films\", \"films\", \"final\", \"final\", \"final\", \"final\", \"final\", \"final\", \"finals\", \"finals\", \"fiscal\", \"fiscal\", \"fiscal year\", \"fiscal year\", \"flagship\", \"flagship\", \"flight\", \"flight\", \"flights\", \"forces\", \"forces\", \"galaxy\", \"galaxy\", \"game\", \"game\", \"game\", \"games\", \"games\", \"gandhi\", \"gandhi\", \"gandhi\", \"gdp\", \"gdp growth\", \"girls\", \"girls\", \"girls\", \"global\", \"global\", \"global\", \"global\", \"global\", \"global\", \"gold\", \"gold\", \"gold\", \"gold medal\", \"gold prices\", \"google\", \"google\", \"google\", \"government\", \"government\", \"government\", \"grand alliance\", \"great\", \"great\", \"great\", \"great\", \"great\", \"great\", \"gross\", \"group\", \"group\", \"group\", \"group\", \"group\", \"growth\", \"growth\", \"growth\", \"growth\", \"hatchback\", \"hockey\", \"hockey\", \"hrithik\", \"htc\", \"human rights\", \"human rights\", \"iaf\", \"inch\", \"inch\", \"inch\", \"increase\", \"increase\", \"increase\", \"increase\", \"increase\", \"index\", \"index\", \"india\", \"india\", \"india\", \"india\", \"india\", \"india\", \"indian\", \"indian\", \"indian\", \"indian\", \"indian\", \"indian\", \"inflation\", \"inflation\", \"installation\", \"investigation\", \"investigation\", \"iraq\", \"iraq\", \"iraq\", \"iraqi\", \"iraqi\", \"isis\", \"isis\", \"islamic\", \"islamic\", \"islamic state\", \"islamic state\", \"islamic state group\", \"islamic state group\", \"issued\", \"issued\", \"jail\", \"jammu\", \"jammu\", \"jammu kashmir\", \"jammu kashmir\", \"janata\", \"janata dal\", \"janata party\", \"japan\", \"japan\", \"japan\", \"kabir\", \"kabul\", \"kabul\", \"kaif\", \"kangana\", \"kapoor\", \"kapoor\", \"kapoor\", \"karan\", \"karan\", \"kareena\", \"kashmir\", \"kashmir\", \"katrina\", \"katrina kaif\", \"khan\", \"khan\", \"khan\", \"khan\", \"killed\", \"killed\", \"killed\", \"lakh\", \"lakh\", \"lakh\", \"lakh\", \"lakh\", \"lakhvi\", \"lalu\", \"leader\", \"leader\", \"leader\", \"lenovo\", \"lg\", \"like\", \"like\", \"like\", \"like\", \"like\", \"like\", \"litre\", \"lollipop\", \"love\", \"love\", \"love\", \"love\", \"love\", \"lynching\", \"makers\", \"makers\", \"makers\", \"makers\", \"makers\", \"market\", \"market\", \"market\", \"market\", \"markets\", \"markets\", \"markets\", \"markets\", \"marshmallow\", \"maruti suzuki\", \"match\", \"match\", \"match\", \"match\", \"medal\", \"medals\", \"memory\", \"memory\", \"memory\", \"men\", \"men\", \"men\", \"men\", \"militants\", \"militants\", \"minister\", \"minister\", \"minister\", \"ministry\", \"ministry\", \"ministry\", \"ministry\", \"missile\", \"modi\", \"modi\", \"modi\", \"month\", \"month\", \"month\", \"month\", \"month\", \"month\", \"mosul\", \"moto\", \"motors\", \"motors\", \"movie\", \"movie\", \"movie\", \"movie\", \"mumbai\", \"mumbai\", \"mumbai\", \"mumbai\", \"mumbai\", \"murray\", \"muslim\", \"muslim\", \"muslim\", \"muslims\", \"muslims\", \"nadal\", \"narsingh\", \"narsingh\", \"net profit\", \"new\", \"new\", \"new\", \"new\", \"new\", \"new\", \"nitish\", \"nitish kumar\", \"nivin\", \"note\", \"note\", \"note\", \"note\", \"note\", \"note\", \"nuclear\", \"officer\", \"officer\", \"officer\", \"official said\", \"officials\", \"officials\", \"officials\", \"oil\", \"oil\", \"oil prices\", \"olympic\", \"olympics\", \"olympics\", \"olympics 2016\", \"oneplus\", \"open\", \"open\", \"open\", \"open\", \"open\", \"open\", \"operators\", \"os\", \"padukone\", \"padukone\", \"paes\", \"pakistan\", \"pakistan\", \"pakistan\", \"pakistani\", \"pakistani\", \"pakistani\", \"pakistani\", \"palmyra\", \"party\", \"party\", \"party\", \"party\", \"party\", \"pauly\", \"people\", \"people\", \"people\", \"people\", \"people\", \"people\", \"percent\", \"percent\", \"percent\", \"percent\", \"personnel\", \"phone\", \"phone\", \"phone\", \"phone\", \"photos\", \"photos\", \"photos\", \"photos\", \"photos\", \"photos\", \"plane\", \"players\", \"players\", \"players\", \"pm\", \"pm\", \"pm\", \"pm\", \"pm\", \"pm ist\", \"pm ist\", \"pm ist\", \"pokemon\", \"police\", \"police\", \"police\", \"polls\", \"premam\", \"prices\", \"prices\", \"prices\", \"prime\", \"prime\", \"prime\", \"prime\", \"prime\", \"prime minister\", \"prime minister\", \"profit\", \"profit\", \"profit\", \"province\", \"province\", \"pushkar\", \"quarter\", \"quarter\", \"quarter\", \"quarter\", \"quoted\", \"quoted\", \"quoted\", \"quoted\", \"quoted\", \"raees\", \"rahul gandhi\", \"rajan\", \"rajnath\", \"rajnath singh\", \"ram\", \"ram\", \"ram\", \"ram\", \"ram\", \"ram\", \"ramadi\", \"ranbir\", \"ranbir\", \"ranbir kapoor\", \"rape\", \"rape\", \"raqqa\", \"rate\", \"rate\", \"rate\", \"rate\", \"rate hike\", \"rbi\", \"rbi\", \"recovery\", \"recovery\", \"recovery\", \"redmi\", \"release\", \"release\", \"release\", \"release\", \"release\", \"release\", \"released\", \"released\", \"released\", \"released\", \"released\", \"released\", \"renault\", \"report\", \"report\", \"report\", \"report\", \"report\", \"report\", \"reported\", \"reported\", \"reported\", \"reported\", \"reported\", \"reported\", \"reportedly\", \"reportedly\", \"reportedly\", \"reportedly\", \"reportedly\", \"reportedly\", \"reports\", \"reports\", \"reports\", \"reports\", \"reports\", \"reports\", \"rio\", \"rio\", \"rio olympics\", \"rio olympics\", \"rio olympics 2016\", \"rjd\", \"role\", \"role\", \"role\", \"role\", \"role\", \"rom\", \"roshan\", \"round\", \"round\", \"round\", \"round\", \"round\", \"rs\", \"rs\", \"rs\", \"rs\", \"rs\", \"rs\", \"rukh\", \"rukh\", \"rukh khan\", \"rukh khan\", \"rupee\", \"s6\", \"said\", \"said\", \"said\", \"said\", \"said\", \"said\", \"said government\", \"saina\", \"saina\", \"sales\", \"sales\", \"sales\", \"salman\", \"salman\", \"salman\", \"salman khan\", \"salman khan\", \"samsung\", \"samsung galaxy\", \"sania\", \"sania\", \"saying\", \"saying\", \"saying\", \"saying\", \"saying\", \"script\", \"sd\", \"sd card\", \"seats\", \"seats\", \"seats\", \"second\", \"second\", \"second\", \"second\", \"second\", \"second\", \"security\", \"security\", \"security\", \"seen\", \"seen\", \"seen\", \"seen\", \"seen\", \"seen\", \"sensex\", \"services\", \"services\", \"services\", \"set\", \"set\", \"set\", \"set\", \"set\", \"set\", \"shah\", \"shah\", \"shah\", \"shah\", \"shah rukh\", \"shah rukh\", \"shah rukh khan\", \"shah rukh khan\", \"sindhu\", \"singles\", \"smartphone\", \"smartphones\", \"snapdragon\", \"solar\", \"song\", \"song\", \"srinagar\", \"srinagar\", \"star\", \"star\", \"star\", \"star\", \"star\", \"state\", \"state\", \"state\", \"state\", \"state\", \"state\", \"state group\", \"state group\", \"statement\", \"statement\", \"statement\", \"statement\", \"statement\", \"statement\", \"step\", \"step\", \"step\", \"step\", \"step\", \"stock\", \"stock\", \"stock\", \"stock\", \"stock markets\", \"storage\", \"story\", \"story\", \"story\", \"story\", \"story\", \"sultan\", \"sultan\", \"sultan\", \"sunanda\", \"sunanda pushkar\", \"sunny\", \"superstar\", \"superstar\", \"superstar\", \"supreme court\", \"sushil\", \"sushil\", \"suzuki\", \"syria\", \"syria\", \"syrian\", \"syrian\", \"taliban\", \"taliban\", \"tata\", \"tata\", \"tata\", \"tata motors\", \"team\", \"team\", \"team\", \"team\", \"team\", \"telecom\", \"telecom\", \"tennis\", \"tennis\", \"tharoor\", \"time\", \"time\", \"time\", \"time\", \"time\", \"time\", \"times\", \"times\", \"times\", \"times\", \"times\", \"times\", \"told\", \"told\", \"told\", \"told\", \"told\", \"tournament\", \"trailer\", \"uber\", \"uber\", \"uber\", \"uber\", \"udta\", \"udta punjab\", \"units\", \"units\", \"units\", \"units\", \"users\", \"users\", \"users\", \"users\", \"users\", \"valley\", \"valley\", \"video\", \"video\", \"video\", \"video\", \"video\", \"wimbledon\", \"win\", \"win\", \"win\", \"win\", \"women\", \"women\", \"women\", \"women\", \"won\", \"won\", \"won\", \"won\", \"won\", \"won\", \"world\", \"world\", \"world\", \"world\", \"world\", \"world\", \"world cup\", \"xiaomi\", \"yazidi\", \"year\", \"year\", \"year\", \"year\", \"year\", \"year\", \"years\", \"years\", \"years\", \"years\", \"years\", \"years\", \"zenfone\", \"zip\"], \"Freq\": [0.1684316580004121, 0.28389738581201535, 0.0010593186037761767, 0.4470324507935466, 0.07838957667943708, 0.021186372075523534, 0.04204349473764064, 0.9529858807198545, 0.2621690198087806, 0.15874454410439925, 0.04249222645218768, 0.35677435417402864, 0.07536357144350267, 0.10422621582612072, 0.12298505780651552, 0.03630281826818831, 0.11631719322664419, 0.5623232462358149, 0.057788159692218136, 0.1044632117513174, 0.9918816634051155, 0.11791291146187742, 0.04016813467382638, 0.05506921689153616, 0.3057961220330008, 0.010365970238406807, 0.47035589956770885, 0.996908180684601, 0.9930335889756895, 0.03542926099943551, 0.5178702618428127, 0.12211787833847985, 0.14850137057210203, 0.16659290810372868, 0.009045768765813322, 0.002205898549999398, 0.9871396011247306, 0.009926543474997291, 0.997443967189326, 0.0015488260360082703, 0.038070290118573206, 0.9517572529643302, 0.09748692577728872, 0.898575141947183, 0.9870818562352413, 0.04620176122430561, 0.6885552801815867, 0.007451896971662195, 0.16245135398223584, 0.038749864252643415, 0.05663441698463268, 0.9866126361692024, 0.01042196446657608, 0.0034739881555253603, 0.9960392630045288, 0.07005863512142663, 0.9289256064248419, 0.9956734417602853, 0.09112052520626013, 0.9004851902736295, 0.9997635976021636, 0.9981068227647415, 0.9991452049481657, 0.9895199288157556, 0.009247849802016407, 0.9027412866111066, 0.09502539859064281, 0.9727875193583794, 0.023400387063603627, 0.05160943489462052, 0.9444526585715556, 0.9872565161877332, 0.9956903870106915, 0.4399873112811421, 0.0012087563496734673, 0.5524016518007745, 0.007252538098040803, 0.0038569414851545875, 0.9565214883183377, 0.01542776594061835, 0.0038569414851545875, 0.019284707425772936, 0.05275626594680219, 0.004396355495566849, 0.04396355495566849, 0.8968565210956372, 0.9761478235331404, 0.015829424165402277, 0.9901387633314787, 0.0037647861723630366, 0.9820577448371556, 0.06041142358620966, 0.939123039385623, 0.9988563336555997, 0.05910093672299713, 0.011181258298945403, 0.32904845851182185, 0.04312771058164655, 0.00638929045654023, 0.5510763018765948, 0.9906146689969442, 0.002706040980201822, 0.9958230807142704, 0.9828771662884004, 0.12038317678466808, 0.8770774308597246, 0.0021496995854405013, 0.03203197947306477, 0.9655353812595237, 0.9842455838074835, 0.010754808489220335, 0.9786875725190506, 0.010872220466103751, 0.9784998419493377, 0.0018919204200675043, 0.9932582205354398, 0.0037838408401350086, 0.0018919204200675043, 0.0071748955537649225, 0.9829606908657943, 0.9939192909390375, 0.04278791164075469, 0.008557582328150938, 0.3440148095916677, 0.6007422794361958, 0.0017115164656301876, 0.9960151393795892, 0.9943804764878638, 0.9788055818457556, 0.3294691148793011, 0.007070152679813328, 0.021210458039439984, 0.5995489472481702, 0.035350763399066634, 0.009898213751738659, 0.060722147144797706, 0.19466805996420442, 0.07500971117886776, 0.6215090354820472, 0.025003237059622586, 0.021431346051105072, 0.9871554584513872, 0.9656271729083337, 0.001605365208492658, 0.025685843335882527, 0.007224143438216961, 0.034937453836352265, 0.8936632928666949, 0.025743387037312198, 0.014710506878464112, 0.033098640476544254, 0.9942142577637196, 0.9919493201611251, 0.45500224304723563, 0.007791134298754035, 0.5220059980165204, 0.014024041737757263, 0.11498771916109746, 0.8828089406561676, 0.1800539716333831, 0.03893058846127202, 0.004866323557659003, 0.7737454456677814, 0.001934861841805385, 0.22057424996581387, 0.050306407886940005, 0.042566960519718464, 0.6733319209482739, 0.011609171050832309, 0.0621395645624614, 0.9282097456517672, 0.0038837227851538374, 0.484140813157711, 0.17449860596942038, 0.013365850669998156, 0.30815711266940193, 0.020048776004997236, 0.09597551852787604, 0.018157530532300875, 0.002593932933185839, 0.11413304906017692, 0.7678041482230084, 0.08630676066699128, 0.1649982189221892, 0.746299636355748, 0.9867400803043156, 0.023112133821818502, 0.42526326232146044, 0.010169338881600142, 0.27364766445033106, 0.1747277316929479, 0.09244853528727401, 0.7858040998202468, 0.018232113684924518, 0.023701747790401875, 0.17138186863829047, 0.0021669967923903357, 0.0007223322641301119, 0.9960961922354243, 0.0007223322641301119, 0.9970076638370209, 0.9955877628965062, 0.9954543025580885, 0.007157360704945981, 0.9877157772825453, 0.9918284021064269, 0.9990303740704464, 0.9995508171542921, 0.9934971790327974, 0.9873574566784005, 0.9721740875036697, 0.02068455505326957, 0.00689485168442319, 0.008485068790168276, 0.2064700072274281, 0.10182082548201933, 0.6250667342090631, 0.03959698768745196, 0.01979849384372598, 0.015071053398912309, 0.9796184709293001, 0.002648016701008692, 0.9215098119510249, 0.07414446762824338, 0.004793075398835467, 0.9921666075589417, 0.886172493804144, 0.11118031287579666, 0.014325330327755407, 0.7779756316457936, 0.018733124274757068, 0.012121433354254574, 0.12011238505579533, 0.05619937282427121, 0.9991188470543704, 0.0006862079993505291, 0.9854105648846644, 0.00935939478180821, 0.004011169192203518, 0.1368546945460874, 0.7402594841356546, 0.08553418409130462, 0.02643783871913052, 0.009331001900869594, 0.9512516909687075, 0.0012734293051789927, 0.0012734293051789927, 0.04584345498644374, 0.9873562916468923, 0.9881549230020944, 0.11041773058799026, 0.8875085515185632, 0.9898178735511938, 0.004220387981187722, 0.9917911755791147, 0.05905148753884096, 0.9411330826502777, 0.007564914683168473, 0.99100382349507, 0.023545031591044693, 0.9712325531305935, 0.10031702216638874, 0.00295050065195261, 0.17260428813922768, 0.00295050065195261, 0.10031702216638874, 0.6210803872360244, 0.9788990403657708, 0.009503874178308454, 0.3283413064727696, 0.07692567751647744, 0.09381180184936273, 0.35179425693511024, 0.036586602721251464, 0.11351228023772891, 0.9905780078159662, 0.12007847232353515, 0.322115267026626, 0.011436044983193823, 0.5374941142101097, 0.009530037485994852, 0.09465512384483048, 0.7099134288362285, 0.0054608725295094505, 0.18931024768966095, 0.8892743386188733, 0.0007686035770258197, 0.102224275744434, 0.0007686035770258197, 0.0015372071540516394, 0.005380225039180737, 0.9925428846748605, 0.00039520032457317575, 0.9706119971517196, 0.027664022720122302, 0.0007904006491463515, 0.00039520032457317575, 0.9882600461186718, 0.008612287983604984, 0.06387970045045267, 0.09872317342342686, 0.08710868243243547, 0.02032535923423494, 0.031939850225226336, 0.6968694594594838, 0.008422626920576567, 0.9854473497074584, 0.0028647359955987716, 0.9969281264683726, 0.010160228054153873, 0.9855421212529256, 0.9957879595301512, 0.002105259956723364, 0.9535409056734628, 0.03836084103284046, 0.9912134721329925, 0.3846000025436195, 0.6153600040697912, 0.9990073764896863, 0.0006837832830182658, 0.017644802546503722, 0.0019605336162781912, 0.9783062745228175, 0.017236001429555475, 0.9795794145797362, 0.050573129296779026, 0.011238473177062006, 0.9384125102846775, 0.9934708254599481, 0.9849378432848318, 0.01758796727502351, 0.052763901825070535, 0.9262996098179049, 0.013864280914908909, 0.12131245800545296, 0.019063386257999748, 0.7781327663492625, 0.015597316029272522, 0.05199105343090841, 0.03431277707435829, 0.4803788790410161, 0.4833625987866125, 0.9932287022249028, 0.9872402648026719, 0.9822409109164819, 0.015485780127061652, 0.001106127151932975, 0.6246473493925876, 0.22845898426858527, 0.14604023677928551, 0.984316788282289, 0.15422784795015768, 0.002372736122310118, 0.20168257039636003, 0.002372736122310118, 0.07118208366930355, 0.5670839332321183, 0.988911429160438, 0.32372129877840666, 0.004217867085060673, 0.003163400313795505, 0.551486121371683, 0.11704581161043368, 0.011545875336873752, 0.9764511713470373, 0.009896464574463215, 0.001649410762410536, 0.9849985092360298, 0.051903484688052566, 0.9407506599709529, 0.9972824909609717, 0.9976201692593415, 0.0149434453688414, 0.9787956716591116, 0.9857787933520638, 0.9831601627994012, 0.00488324584171888, 0.011394240297344054, 0.01434238684381172, 0.10613366264420673, 0.002868477368762344, 0.8605432106287032, 0.01434238684381172, 0.0097218241038621, 0.981904234490072, 0.10131419593929993, 0.38909735107154075, 0.03250043203070733, 0.21098045821051348, 0.022332699104899448, 0.24366245690061022, 0.009014064607639607, 0.4577141695212556, 0.05758985721547527, 0.1532390983298733, 0.05358360627874655, 0.26841881276082385, 0.03277906592020605, 0.9646410827946353, 0.99950907725982, 0.9866898611767273, 0.005606192393049587, 0.003678604467222616, 0.9785087882812158, 0.014714417868890464, 0.006417634575510654, 0.9883157246286408, 0.01932120660034494, 0.9807812493317956, 0.008670468066582625, 0.9901674532037359, 0.008059890645319147, 0.9893515767129253, 0.026798130165468954, 0.9647326859568823, 0.9887181516529445, 0.006818745873468582, 0.9937600278478423, 0.9915761193959545, 0.007372313155360256, 0.9843768326158868, 0.015380888009623232, 0.9916128138103485, 0.985357605816912, 0.9832705043993084, 0.014902455318637091, 0.0968659595711411, 0.8829704776292476, 0.9962162788649361, 0.01932971766026131, 0.9761507418431962, 0.9953577701384894, 0.9927705491226875, 0.00304073833514325, 0.9882399589215562, 0.007601845837858125, 0.005286830748149194, 0.9939241806520485, 0.9971326559507477, 0.9905221831843769, 0.009711001795925264, 0.9976904209523538, 0.99714126628482, 0.034512977236446966, 0.9598177979722233, 0.0005950513316628787, 0.005355461984965908, 0.3680331934501549, 0.0012734712576129928, 0.6303682725184314, 0.04525761633299965, 0.008081717202321367, 0.940711882350207, 0.0032326868809285465, 0.0016163434404642732, 0.9936880615183854, 0.9881722893138596, 0.012840976135098674, 0.13097795657800645, 0.8552090105975716, 0.9989695887597123, 0.997967352969129, 0.26779871968472146, 0.10299950757104671, 0.3310698457640787, 0.0684211014579096, 0.06106399377426341, 0.16774205518713323, 0.9881994240809332, 0.9991429896324444, 0.008914151140530336, 0.002971383713510112, 0.9241003349016448, 0.017828302281060672, 0.04754213941616179, 0.9835058433967598, 0.06177781026798081, 0.002685991750781774, 0.8165414922376594, 0.1154976452836163, 0.002685991750781774, 0.20972887368104537, 0.04587819111772867, 0.7419158906466979, 0.002621610921013067, 0.06748300357467509, 0.01587835378227649, 0.9030813713669754, 0.011908765336707369, 0.9988680183984368, 0.9825992912108085, 0.0029912955471820654, 0.0029912955471820654, 0.0029912955471820654, 0.9901188261172637, 0.9963841947633788, 0.990957115701359, 0.9803198067418747, 0.0074947997457329866, 0.010492719644026182, 0.06656741285220909, 0.03778150459179434, 0.37781504591794346, 0.5163472294211894, 0.32350795107575625, 0.6753523650194619, 0.5445677617220044, 0.012146492826513108, 0.44267218301069994, 0.895392916442217, 0.07209657249274994, 0.025582654755491912, 0.0046513917737258026, 0.9869594786591026, 0.3619907717343566, 0.06787326970019186, 0.5698002888411169, 0.1433512924003952, 0.1918377589475877, 0.082216182406109, 0.44375657426887044, 0.09064861137083814, 0.04743241292660135, 0.9828264273372919, 0.9982086015882823, 0.008861280559279486, 0.9836021420800231, 0.0008374446707863952, 0.9379380312807627, 0.06113346096740685, 0.0008374446707863952, 0.7149204113162555, 0.24240544658880409, 0.010539367242991482, 0.007026244828660988, 0.026348418107478705, 0.9921095463781205, 0.005945498594608612, 0.017836495783825835, 0.9691162709212037, 0.01772793620334523, 0.9839004592856602, 0.9952265784538087, 0.005057071734154226, 0.9911860598942284, 0.9913668995009142, 0.4914325538326228, 0.17045861170457743, 0.10423186631825154, 0.10573701962248622, 0.06810818701661923, 0.059829843843328505, 0.9927356060525093, 0.985933430318662, 0.9893212301684321, 0.9013560803317323, 0.009815129731380025, 0.007088704805996685, 0.07415875797042686, 0.0005452849850766681, 0.007633989791073353, 0.9889852513451495, 0.9209603469936882, 0.05221940111819882, 0.02848330970083572, 0.9884438395480188, 0.9020223785136084, 0.08673292101092389, 0.0069386336808739115, 0.036138402838796706, 0.9618374909402815, 0.9945645720234135, 0.9949876771291337, 0.0011599892020933275, 0.9987507030023549, 0.9966330011260862, 0.9984718835246625, 0.1902987108818827, 0.07992545857039074, 0.06470156169984012, 0.022835845305825924, 0.04567169061165185, 0.5956349650602929, 0.9841567228625184, 0.9968372964123529, 0.004143652561826451, 0.9944766148383483, 0.9871037317640446, 0.9692807840573086, 0.0013748663603649766, 0.027497327207299534, 0.8965094228646983, 0.028786999816756368, 0.06991128526926546, 0.00411242854525091, 0.9892154621202479, 0.006467824153841223, 0.051742593230729786, 0.21828906519214128, 0.7146945689994552, 0.009701736230761834, 0.9883193642320881, 0.007289874742813676, 0.3333460905122981, 0.12922959771351517, 0.0013254317714206684, 0.5228828338254536, 0.005964442971393007, 0.012276921966478312, 0.05319999518807268, 0.923838377977493, 0.010230768305398593, 0.9915071687808457, 0.9191342555208235, 0.07494346788220398, 0.0017228383421196316, 0.0034456766842392633, 0.13834858798014388, 0.00813815223412611, 0.6897084018421878, 0.004069076117063055, 0.1566594305069276, 0.0020345380585315275, 0.9935047096594467, 0.005073456784016609, 0.055808024624182696, 0.9360527766510643, 0.10904051028452234, 0.007520035192036024, 0.024440114374117076, 0.8572840118921067, 0.003760017596018012, 0.007205897010689752, 0.9800019934538063, 0.007205897010689752, 0.9947672504436604, 0.8436199589759662, 0.001329582283650065, 0.15423154490340754, 0.9867800247625057, 0.9912704004335584, 0.0066398840682193256, 0.001106647344703221, 0.991556020854086, 0.03614204221942937, 0.3921411580808087, 0.02529942955360056, 0.5385164290694976, 0.007228408443885874, 0.40456555234211194, 0.5929346984061641, 0.04423262022282081, 0.0044232620222820805, 0.9510013347906474, 0.03009197168588101, 0.9629430939481923, 0.9949925908601568, 0.03344029153863078, 0.002090018221164424, 0.7628566507250149, 0.1985517310106203, 0.5151814310393019, 0.19892037901300594, 0.0055876510958709534, 0.15868929112273508, 0.1195757334516384, 0.9950056557544125, 0.9899652126927456, 0.991345249780985, 0.9938446871983464, 0.9837276490963692, 0.7660777881695147, 0.0010625212041186056, 0.14450288376013037, 0.014875296857660479, 0.07012639947182797, 0.002125042408237211, 0.9872878196236373, 0.006062515071218285, 0.9912212141441895, 0.9937987923313127, 0.8917481081909202, 0.10514060664259758, 0.9795366272837873, 0.045127988461238645, 0.011281997115309661, 0.929636562301516, 0.013538396538371593, 0.9916646816218426, 0.02355466601373263, 0.9735928619009487, 0.9586243963290114, 0.03583642603099108, 0.005119489432998726, 0.9983428644563895, 0.3432061926490685, 0.06240112593619427, 0.5336372149026268, 0.04195937778468235, 0.006455288889951131, 0.012910577779902262, 0.3604556693386375, 0.06488202048095475, 0.3658625043787171, 0.10453214410820487, 0.09822416989477872, 0.0054068350400795625, 0.9937828669947544, 0.04399526643710758, 0.49861301962055254, 0.12884328028010075, 0.17283854671720833, 0.14874590081117323, 0.007332544406184596, 0.0450595513741334, 0.5382113080799267, 0.12766872889337796, 0.10764226161598535, 0.17523158867718544, 0.006675489092464207, 0.06314846343113877, 0.3798931371492316, 0.2545985668493531, 0.011025922186389309, 0.29068340309571816, 0.001002356562399028, 0.05355050509884258, 0.34609493110177886, 0.39171202803782995, 0.02578357652907235, 0.1765183316221107, 0.0059500561220936195, 0.0011806222192368094, 0.9988063974743407, 0.002073143065756847, 0.9971818146290434, 0.9931152291113235, 0.9956353551402722, 0.14256200664498295, 0.7931266566868769, 0.008031662346196221, 0.02610290262513772, 0.030118733798235833, 0.999071443373682, 0.9901724851322783, 0.006786700684883246, 0.05429360547906597, 0.07126035719127408, 0.016966751712208114, 0.8449442352679641, 0.059332265834109416, 0.004330822323657621, 0.00043308223236576216, 0.9337252929805832, 0.00043308223236576216, 0.0017323289294630486, 0.006262305076490022, 0.9915316371109202, 0.0062884666512197426, 0.9904334975671095, 0.9965098911209274, 0.9988233737160933, 0.03953053212042699, 0.5530220083308965, 0.09365695302378087, 0.09467055641148413, 0.19177376095345608, 0.027367291467987918, 0.9853588338696454, 0.0071580034154070825, 0.9878044713261774, 0.06400361807110992, 0.9267723896696717, 0.007680434168533191, 0.002172547237138836, 0.9971991818467256, 0.000724182412379612, 0.0017660716623554976, 0.9978304892308562, 0.9986744418724828, 0.9975519726092124, 0.018473565329083907, 0.9790989624414471, 0.47521047377609854, 0.20952056536094402, 0.0026747306216290726, 0.21576160347807852, 0.09629030237864661, 0.9951295494595632, 0.9977136655051119, 0.9981710064402668, 0.03744035747307796, 0.06953209245000191, 0.887871334361563, 0.026617071237024132, 0.06827857404280104, 0.15160157965435483, 0.3356065503798695, 0.07290762991010959, 0.3448646621144866, 0.14941491380569247, 0.7779879994710194, 0.0721313376992998, 0.19115998656785008, 0.10268022135644518, 0.4653380244451665, 0.0961261646741189, 0.09721850745450661, 0.04806308233705945, 0.9980175315541928, 0.011539466656859749, 0.82853370596253, 0.15924463986466453, 0.056538677929334376, 0.19353624368118305, 0.24572579253903018, 0.09241899276910427, 0.06088780700082164, 0.3511921725225962, 0.04940011772899154, 0.8503877409062115, 0.06704301691791709, 0.029992928621173438, 0.006511945970965883, 0.9919864362438029, 0.006648575400490676, 0.9906377346731107, 0.9954210813027845, 0.9890462618751921, 0.9992672789243457, 0.9981472053268141, 0.996765394125864, 0.9920522875174697, 0.9620946799811906, 0.03447244781691562, 0.9764252839170898, 0.02202463046429526, 0.0017323787395168585, 0.005197136218550575, 0.8038237351358223, 0.03118281731130345, 0.15937884403555097, 0.0070672714120047055, 0.26784958651497837, 0.007773998553205176, 0.06855253269644565, 0.647362061339631, 0.0007067271412004706, 0.026301910843000757, 0.973170701191028, 0.029437751120470364, 0.7536064286840414, 0.07065060268912887, 0.07653815291322295, 0.05691298549957604, 0.013737617189552838, 0.9562413285977496, 0.025351042645751578, 0.006591271087895411, 0.005577229382065348, 0.006591271087895411, 0.0972697807342702, 0.03839596607931718, 0.8626293712486595, 0.002559731071954479, 0.9945180412005733, 0.9991582320394196, 0.08091090610600686, 0.8091090610600686, 0.026970302035335618, 0.056637634274204804, 0.024273271831802057, 0.00618292425255129, 0.9542313096437491, 0.03915852026615817, 0.9887471184585818, 0.9837960482559541, 0.9934711140843864, 0.9551582833579229, 0.003745718758266364, 0.03745718758266364, 0.9828753648977965, 0.03609915892071942, 0.9602376272911365, 0.9936868461407006, 0.01577558414875568, 0.9833447452724373, 0.01196357095066609, 0.9850006749381748, 0.17281700157725988, 0.8272551550911456, 0.03772326470494335, 0.9567991684253814, 0.003429387700449396, 0.9845459019486572, 0.11628562289733602, 0.13366163551417934, 0.25930357289750794, 0.0200492453271269, 0.4704889570099113, 0.00603558369620005, 0.989835726176808, 0.004987414699815746, 0.9924955252633335, 0.9951913157568192, 0.10216437140752885, 0.17551315087960084, 0.31304211238973584, 0.11460746792511248, 0.07400367928878691, 0.22135613804964582, 0.06891164631090523, 0.5526995306160357, 0.18985861738718784, 0.029533562704673666, 0.0717243665684932, 0.08719432798522701, 0.5466925635008156, 0.23285053630590297, 0.01265492045140777, 0.18054353177341753, 0.02699716362966991, 0.9886078006891296, 0.9982393523569063, 0.9445811411495156, 0.00555635965382068, 0.033338157922924085, 0.016669078961462042, 0.9951076502044929, 0.9951350692334876, 0.029225006825392284, 0.056201936202677466, 0.9059752115871608, 0.006744232344321296, 0.9001544078198649, 0.06421334945537298, 0.023350308892862902, 0.001167515444643145, 0.011675154446431451, 0.975910916461323, 0.01876751762425621, 0.11144662113569635, 0.07706415291298152, 0.522850637455767, 0.2821733598967631, 0.007113614115044449, 0.9922021789877771, 0.008609577710282633, 0.028698592367608775, 0.07174648091902194, 0.8896563633958721, 0.12116954434204816, 0.04038984811401605, 0.3958205115173573, 0.4429420009837094, 0.0043130866459028675, 0.012939259937708603, 0.1919323557426776, 0.053913583073785847, 0.07547901630330019, 0.6620588001460902, 0.03393285143914629, 0.06632330054014957, 0.048585673651504915, 0.15655383732151584, 0.1064257613318679, 0.5884264920015595, 0.9943117026721447, 0.9993688839347992, 0.9825171897046266, 0.02887733645277356, 0.15804907800496498, 0.16488027587551357, 0.3884467516389218, 0.13693446640508755, 0.12296156166987453, 0.019414584874238288, 0.4659500369817189, 0.12983503634646854, 0.17594467542278447, 0.0691644586144739, 0.1395423287835877, 0.9989832526881594, 0.9977644758068884]}};\n",
       "\n",
       "function LDAvis_load_lib(url, callback){\n",
       "  var s = document.createElement('script');\n",
       "  s.src = url;\n",
       "  s.async = true;\n",
       "  s.onreadystatechange = s.onload = callback;\n",
       "  s.onerror = function(){console.warn(\"failed to load library \" + url);};\n",
       "  document.getElementsByTagName(\"head\")[0].appendChild(s);\n",
       "}\n",
       "\n",
       "if(typeof(LDAvis) !== \"undefined\"){\n",
       "   // already loaded: just create the visualization\n",
       "   !function(LDAvis){\n",
       "       new LDAvis(\"#\" + \"ldavis_el1917619117145447609367657542\", ldavis_el1917619117145447609367657542_data);\n",
       "   }(LDAvis);\n",
       "}else if(typeof define === \"function\" && define.amd){\n",
       "   // require.js is available: use it to load d3/LDAvis\n",
       "   require.config({paths: {d3: \"https://cdnjs.cloudflare.com/ajax/libs/d3/3.5.5/d3.min\"}});\n",
       "   require([\"d3\"], function(d3){\n",
       "      window.d3 = d3;\n",
       "      LDAvis_load_lib(\"https://cdn.rawgit.com/bmabey/pyLDAvis/files/ldavis.v1.0.0.js\", function(){\n",
       "        new LDAvis(\"#\" + \"ldavis_el1917619117145447609367657542\", ldavis_el1917619117145447609367657542_data);\n",
       "      });\n",
       "    });\n",
       "}else{\n",
       "    // require.js not available: dynamically load d3 & LDAvis\n",
       "    LDAvis_load_lib(\"https://cdnjs.cloudflare.com/ajax/libs/d3/3.5.5/d3.min.js\", function(){\n",
       "         LDAvis_load_lib(\"https://cdn.rawgit.com/bmabey/pyLDAvis/files/ldavis.v1.0.0.js\", function(){\n",
       "                 new LDAvis(\"#\" + \"ldavis_el1917619117145447609367657542\", ldavis_el1917619117145447609367657542_data);\n",
       "            })\n",
       "         });\n",
       "}\n",
       "</script>"
      ],
      "text/plain": [
       "PreparedData(topic_coordinates=            Freq  cluster  topics          x          y\n",
       "topic                                                  \n",
       "5      28.543655        1       1   1.636274  -0.784239\n",
       "3      20.154248        1       2  63.967236 -71.104820\n",
       "4      16.194738        1       3  -7.457330  92.743462\n",
       "1      13.758649        1       4  87.776382  36.765804\n",
       "0      11.941899        1       5 -90.124008  19.468885\n",
       "2       9.406812        1       6 -45.981186 -81.794838, topic_info=     Category         Freq         Term        Total  loglift  logprob\n",
       "term                                                                  \n",
       "2380  Default  2530.000000         film  2530.000000  30.0000  30.0000\n",
       "5387  Default  2309.000000           rs  2309.000000  29.0000  29.0000\n",
       "3001  Default  5507.000000        india  5507.000000  28.0000  28.0000\n",
       "539   Default  2287.000000      android  2287.000000  27.0000  27.0000\n",
       "3363  Default  1680.000000         khan  1680.000000  26.0000  26.0000\n",
       "1619  Default  1384.000000        crore  1384.000000  25.0000  25.0000\n",
       "5496  Default  1380.000000       salman  1380.000000  24.0000  24.0000\n",
       "3201  Default  1086.000000         isis  1086.000000  23.0000  23.0000\n",
       "5465  Default  4932.000000         said  4932.000000  22.0000  22.0000\n",
       "4246  Default   862.000000     olympics   862.000000  21.0000  21.0000\n",
       "5308  Default   847.000000          rio   847.000000  20.0000  20.0000\n",
       "3992  Default  1194.000000        movie  1194.000000  19.0000  19.0000\n",
       "6050  Default  1972.000000         step  1972.000000  18.0000  18.0000\n",
       "5844  Default  1460.000000   smartphone  1460.000000  17.0000  17.0000\n",
       "2540  Default  1462.000000       galaxy  1462.000000  16.0000  16.0000\n",
       "1831  Default  1457.000000       device  1457.000000  15.0000  15.0000\n",
       "4733  Default   903.000000       prices   903.000000  14.0000  14.0000\n",
       "6020  Default  1414.000000        state  1414.000000  13.0000  13.0000\n",
       "4590  Default  1504.000000       police  1504.000000  12.0000  12.0000\n",
       "3876  Default  1481.000000     minister  1481.000000  11.0000  11.0000\n",
       "99    Default  1543.000000         2016  1543.000000  10.0000  10.0000\n",
       "4468  Default   977.000000      percent   977.000000   9.0000   9.0000\n",
       "2657  Default  2074.000000   government  2074.000000   8.0000   8.0000\n",
       "358   Default   906.000000        actor   906.000000   7.0000   7.0000\n",
       "6883  Default  1296.000000        world  1296.000000   6.0000   6.0000\n",
       "4462  Default  1508.000000       people  1508.000000   5.0000   5.0000\n",
       "6943  Default  3220.000000         year  3220.000000   4.0000   4.0000\n",
       "3940  Default  1193.000000         modi  1193.000000   3.0000   3.0000\n",
       "4154  Default  1833.000000         note  1833.000000   2.0000   2.0000\n",
       "5505  Default  1104.000000      samsung  1104.000000   1.0000   1.0000\n",
       "...       ...          ...          ...          ...      ...      ...\n",
       "2555   Topic6   340.991120        games   348.108581   2.3431  -5.3406\n",
       "1957   Topic6   101.809854       doping   103.049261   2.3516  -6.5493\n",
       "5513   Topic6   212.049704        sania   216.525610   2.3428  -5.8156\n",
       "943    Topic6   137.197766         bolt   139.374851   2.3480  -6.2510\n",
       "4565   Topic6   369.494307      players   394.208542   2.2990  -5.2603\n",
       "6839   Topic6   309.540516          win   348.449146   2.2453  -5.4373\n",
       "6228   Topic6   132.992892       sushil   138.507382   2.3231  -6.2821\n",
       "3253   Topic6   236.974150        japan   268.412145   2.2392  -5.7045\n",
       "739    Topic6   204.045867    australia   227.461133   2.2551  -5.8541\n",
       "5378   Topic6   249.440924        round   294.694004   2.1970  -5.6532\n",
       "2847   Topic6   144.885660       hockey   154.132233   2.3019  -6.1965\n",
       "6883   Topic6   762.668184        world  1296.678532   1.8330  -4.5356\n",
       "1426   Topic6   296.051404  competition   385.514979   2.0997  -5.4819\n",
       "2169   Topic6   421.334815        event   677.851062   1.8882  -5.1290\n",
       "99     Topic6   726.044556         2016  1543.512053   1.6095  -4.5848\n",
       "6871   Topic6   306.990747          won   463.705036   1.9513  -5.4456\n",
       "4259   Topic6   312.806000         open   525.489634   1.8450  -5.4268\n",
       "3001   Topic6  1342.012907        india  5507.619094   0.9518  -3.9705\n",
       "2391   Topic6   240.093831        final   344.397357   2.0030  -5.6914\n",
       "869    Topic6   345.483105         best   626.047607   1.7693  -5.3275\n",
       "6306   Topic6   351.627829         team   748.157836   1.6087  -5.3099\n",
       "3021   Topic6   535.876464       indian  1996.879408   1.0483  -4.8885\n",
       "2626   Topic6   324.492946         gold   670.304241   1.6383  -5.3902\n",
       "6867   Topic6   329.089905        women   742.760902   1.5497  -5.3761\n",
       "3815   Topic6   287.186453          men   555.827520   1.7034  -5.5123\n",
       "5688   Topic6   323.383126          set   919.724371   1.3185  -5.3936\n",
       "5584   Topic6   297.812813       second   864.107091   1.2985  -5.4760\n",
       "6404   Topic6   337.698351         time  1526.951107   0.8549  -5.3503\n",
       "6943   Topic6   396.358303         year  3220.518629   0.2688  -5.1901\n",
       "2681   Topic6   239.070748        great   421.454367   1.7968  -5.6957\n",
       "\n",
       "[427 rows x 6 columns], token_table=      Topic      Freq        Term\n",
       "term                             \n",
       "1         1  0.168432         000\n",
       "1         2  0.283897         000\n",
       "1         3  0.001059         000\n",
       "1         4  0.447032         000\n",
       "1         5  0.078390         000\n",
       "1         6  0.021186         000\n",
       "2         2  0.042043   000 crore\n",
       "2         4  0.952986   000 crore\n",
       "11        1  0.262169          10\n",
       "11        2  0.158745          10\n",
       "11        3  0.042492          10\n",
       "11        4  0.356774          10\n",
       "11        5  0.075364          10\n",
       "11        6  0.104226          10\n",
       "97        1  0.122985        2015\n",
       "97        2  0.036303        2015\n",
       "97        3  0.116317        2015\n",
       "97        4  0.562323        2015\n",
       "97        5  0.057788        2015\n",
       "97        6  0.104463        2015\n",
       "98        4  0.991882     2015 16\n",
       "99        1  0.117913        2016\n",
       "99        2  0.040168        2016\n",
       "99        3  0.055069        2016\n",
       "99        4  0.305796        2016\n",
       "99        5  0.010366        2016\n",
       "99        6  0.470356        2016\n",
       "299       3  0.996908       aamir\n",
       "300       3  0.993034  aamir khan\n",
       "329       1  0.035429   according\n",
       "...     ...       ...         ...\n",
       "6867      6  0.442942       women\n",
       "6871      1  0.004313         won\n",
       "6871      2  0.012939         won\n",
       "6871      3  0.191932         won\n",
       "6871      4  0.053914         won\n",
       "6871      5  0.075479         won\n",
       "6871      6  0.662059         won\n",
       "6883      1  0.033933       world\n",
       "6883      2  0.066323       world\n",
       "6883      3  0.048586       world\n",
       "6883      4  0.156554       world\n",
       "6883      5  0.106426       world\n",
       "6883      6  0.588426       world\n",
       "6887      6  0.994312   world cup\n",
       "6927      1  0.999369      xiaomi\n",
       "6942      5  0.982517      yazidi\n",
       "6943      1  0.028877        year\n",
       "6943      2  0.158049        year\n",
       "6943      3  0.164880        year\n",
       "6943      4  0.388447        year\n",
       "6943      5  0.136934        year\n",
       "6943      6  0.122962        year\n",
       "6956      1  0.019415       years\n",
       "6956      2  0.465950       years\n",
       "6956      3  0.129835       years\n",
       "6956      4  0.175945       years\n",
       "6956      5  0.069164       years\n",
       "6956      6  0.139542       years\n",
       "6984      1  0.998983     zenfone\n",
       "6988      1  0.997764         zip\n",
       "\n",
       "[984 rows x 3 columns], R=30, lambda_step=0.01, plot_opts={'ylab': 'PC2', 'xlab': 'PC1'}, topic_order=[6, 4, 5, 2, 1, 3])"
      ]
     },
     "execution_count": 506,
     "metadata": {},
     "output_type": "execute_result"
    }
   ],
   "source": [
    "pyLDAvis.sklearn.prepare(lda, tfIDFMatrix, vectorizer, mds='tsne')"
   ]
  },
  {
   "cell_type": "code",
   "execution_count": 507,
   "metadata": {
    "collapsed": true
   },
   "outputs": [],
   "source": [
    "# we can see that LDA has effectively created these topics according to the word probabilities and if we look at topic number 1 it is a mostly about \n",
    "# the mobile phones/Electronic devices and related terms while topic three is mostly about Moviesa and related terms."
   ]
  },
  {
   "cell_type": "code",
   "execution_count": 508,
   "metadata": {
    "collapsed": true
   },
   "outputs": [],
   "source": [
    "# now we can do a few data cleaning steps\n",
    "def convertDate(date):\n",
    "    from dateutil import parser\n",
    "    from datetime import datetime\n",
    "    \n",
    "    try :\n",
    "        date = str(date)\n",
    "        dt =parser.parse(date)\n",
    "    except:\n",
    "        dt =parser.parse(\"August 22, 2016 12:34 IST\")\n",
    "    val =str(dt.strftime(\"%d-%m-%Y\"))\n",
    "           \n",
    "    return val\n",
    "\n",
    "news_df[\"nDate\"] = news_df[\"Date\"].apply(convertDate)\n",
    "news_df.drop(\"Date\",axis=1,inplace=True)"
   ]
  },
  {
   "cell_type": "code",
   "execution_count": 509,
   "metadata": {
    "collapsed": false
   },
   "outputs": [],
   "source": [
    "# Time Passed till date\n",
    "\n",
    "def timePassed(date):\n",
    "    from datetime import datetime\n",
    "    from dateutil import parser\n",
    "    tDate = datetime.today()\n",
    "    tdate = str(tDate.strftime(\"%d-%m-%Y\"))\n",
    "    tdate = datetime.strptime(tdate,\"%d-%m-%Y\")\n",
    "    cdate = datetime.strptime(date,\"%d-%m-%Y\")\n",
    "    dt = tdate-cdate\n",
    "    return dt.days\n",
    "news_df[\"daysSincePosted\"] = news_df[\"nDate\"].apply(timePassed)\n"
   ]
  },
  {
   "cell_type": "code",
   "execution_count": 510,
   "metadata": {
    "collapsed": false
   },
   "outputs": [
    {
     "data": {
      "text/plain": [
       "(array([178.,  14.,  15.,  28.,  40.,   4.,  14.,  19.,   5.,   3.]),\n",
       " array([ -3. ,  16.7,  36.4,  56.1,  75.8,  95.5, 115.2, 134.9, 154.6,\n",
       "        174.3, 194. ]),\n",
       " <a list of 10 Patch objects>)"
      ]
     },
     "execution_count": 510,
     "metadata": {},
     "output_type": "execute_result"
    },
    {
     "data": {
      "image/png": "[encoded data removed]",
      "text/plain": [
       "<matplotlib.figure.Figure at 0x1bd19ce6898>"
      ]
     },
     "metadata": {},
     "output_type": "display_data"
    }
   ],
   "source": [
    "columnsToDelete =[\"actionStrength\",\"timeEffect\",\"TimeWeight\"]\n",
    "user_df = user_df.drop((column for column in user_df.keys() if column in columnsToDelete),axis=1)\n",
    "combinedDF= news_df.merge(user_df,how=\"right\",left_on=\"Article_Id\",right_on=\"Article_Id\")\n",
    "combinedDF[\"daysSinceRead\"] = combinedDF[\"Date\"].apply(timePassed)\n",
    "\n",
    "# we consider that an eligible user can read 10 words in a minute. we can use this information to generate oure expected time spent\n",
    "avgWordSpeed =110\n",
    "\n",
    "combinedDF[\"expectedTimeSpent\"] = round((combinedDF[\"storylength\"]/avgWordSpeed)*60)\n",
    "import seaborn as sns\n",
    "combinedDF[\"TimeSpent\"].describe()\n",
    "from matplotlib import pyplot as plt\n",
    "%matplotlib inline\n",
    "plt.hist(combinedDF[\"TimeSpent\"])"
   ]
  },
  {
   "cell_type": "code",
   "execution_count": 511,
   "metadata": {
    "collapsed": false
   },
   "outputs": [
    {
     "data": {
      "text/plain": [
       "(array([58., 56., 89., 64., 27.,  9.,  9.,  4.,  1.,  3.]),\n",
       " array([  5. ,  62.3, 119.6, 176.9, 234.2, 291.5, 348.8, 406.1, 463.4,\n",
       "        520.7, 578. ]),\n",
       " <a list of 10 Patch objects>)"
      ]
     },
     "execution_count": 511,
     "metadata": {},
     "output_type": "execute_result"
    },
    {
     "data": {
      "image/png": "[encoded data removed]",
      "text/plain": [
       "<matplotlib.figure.Figure at 0x1bd173fce80>"
      ]
     },
     "metadata": {},
     "output_type": "display_data"
    }
   ],
   "source": [
    "# If we exclude Articles which were not clicked ,we see majority of user's spent time less than 100 and in upper range , majority of user's spent 150 seconds\n",
    "# one thing to  note is this the approximated data which we have generated. We are analyzing it for the sake of understanding\n",
    "plt.hist(combinedDF[\"expectedTimeSpent\"])"
   ]
  },
  {
   "cell_type": "code",
   "execution_count": 32,
   "metadata": {
    "collapsed": true
   },
   "outputs": [],
   "source": [
    "# the above graph shows the expected time spent which is way different from our approximation. we may have to rethink our mixture models as stories are pretty big."
   ]
  },
  {
   "cell_type": "code",
   "execution_count": 512,
   "metadata": {
    "collapsed": false
   },
   "outputs": [],
   "source": [
    "# user interest on a particular story can be grouped using below bins\n",
    "# Low/Not interested -  Less than 15\n",
    "# Average -  anywhere between 15-35\n",
    "# Good - above 35\n",
    "# We give story a weightage if user has clicked on i, atleast he was interested in title\n",
    "clickedMapping = {\"Yes\":2,\"No\":0}\n",
    "combinedDF[\"ClickStrength\"] = combinedDF.Click.map(clickedMapping)\n",
    "\n",
    "#Replacing missing values in timespent column by 0\n",
    "combinedDF.TimeSpent.fillna(0,inplace=True)\n",
    "\n",
    "#creating a category field for TimeSpent variable to better take the effect\n",
    "combinedDF[\"IntCategory\"] = pd.cut(combinedDF.TimeSpent,bins=[0,15,35,40,1000],include_lowest=True,labels=[\"Not Seen\",\"NI\",\"Moderate\",\"Intrested\"])\n",
    "#Assigning weights for the timeSpent\n",
    "TimeSpentMapping = {\"Not Seen\":0,\"NI\":1,\"Moderate\":2,\"Intrested\":4}\n",
    "combinedDF[\"IntWeight\"] = combinedDF[\"IntCategory\"].map(TimeSpentMapping)\n",
    "combinedDF[\"timeRatio\"] = (combinedDF[\"expectedTimeSpent\"]/combinedDF[\"TimeSpent\"])\n",
    "combinedDF[\"timeRatio\"] = combinedDF[\"timeRatio\"].astype(int)\n",
    "# Add the weights \n",
    "combinedDF[\"CombinedWeight\"]=combinedDF[\"IntWeight\"]+combinedDF[\"ClickStrength\"]"
   ]
  },
  {
   "cell_type": "code",
   "execution_count": 513,
   "metadata": {
    "collapsed": true
   },
   "outputs": [],
   "source": [
    "# We will create a new view of the data with these parameters\n",
    "# recent news\n",
    "#most Popular news\n",
    "# create user representation in terms of Topics\n",
    "\n",
    "# To create the User Profile, We will use articles with which user has shown grater interest\n",
    "UsersList = np.array(user_df[\"UserID\"].unique())\n",
    "\n",
    "# let's create  seperate dataframes for seperate users to generate the user profiles\n",
    "dfDict={}\n",
    "for i in range(len(UsersList)):\n",
    "    tempDf = combinedDF.query(\"UserID==\"+str(UsersList[i]))\n",
    "    dfDict[str(UsersList[i])] = tempDf"
   ]
  },
  {
   "cell_type": "code",
   "execution_count": 514,
   "metadata": {
    "collapsed": false
   },
   "outputs": [],
   "source": [
    "# now we have seperate dataframe for seperate users, we can start working on user profile part\n",
    "# get userDF say for 1st User, this will become the entry point for our recommendation engine, where we will provide recommendation for the given user id\n",
    "UserDF = dfDict[str(1)]"
   ]
  },
  {
   "cell_type": "code",
   "execution_count": 515,
   "metadata": {
    "collapsed": true
   },
   "outputs": [],
   "source": [
    "# We will sort all the Articles which were presented to user according to two below criterias and take top 10 weighted articles.\n",
    "#1 - Recentness- It was read how many days ago .\n",
    "#2 - CombinedWeight - the interaction user did with it. e.g. Click, timespent weight we calculated earlier.\n",
    "UserDF = UserDF.sort_values([\"daysSinceRead\",\"CombinedWeight\"],ascending=[True,False]).head(10)"
   ]
  },
  {
   "cell_type": "code",
   "execution_count": 516,
   "metadata": {
    "collapsed": true
   },
   "outputs": [],
   "source": [
    "# the idea behind getting these articles is that since these are most recent/liked items, these represent user's latest preference and we can get\n",
    "# the user profile if we find the cenetroide probability distribution for our user.\n",
    "# I said probability distribution becase we already have Probability distribution for all the articles and we can fetch the prob dist for our top 10 articles.\n",
    "UserArticles = UserDF.Article_Id\n",
    "UserTopRep = TopicToDocMat[UserArticles]\n",
    "# we have six topics so we will have six column in our matrix, we will create mean for each topic  and combine these to create user topic probability distribution.\n",
    "mean_1st = np.mean(UserTopRep[:,0])\n",
    "mean_2nd = np.mean(UserTopRep[:,1])\n",
    "mean_3rd = np.mean(UserTopRep[:,2])\n",
    "mean_4th = np.mean(UserTopRep[:,3])\n",
    "mean_5th = np.mean(UserTopRep[:,4])\n",
    "mean_6th = np.mean(UserTopRep[:,5])\n",
    "UserCent = np.array([mean_1st,mean_2nd,mean_3rd,mean_4th,mean_5th,mean_6th])"
   ]
  },
  {
   "cell_type": "code",
   "execution_count": 517,
   "metadata": {
    "collapsed": true
   },
   "outputs": [],
   "source": [
    "# now we have our average user profile for user 1 and  we can see that user 1 doesn't like some specific kind of news. user likes articles which have high probability distributionn\n",
    "# for topic 2,3,4,5. we can cross check the same"
   ]
  },
  {
   "cell_type": "code",
   "execution_count": 518,
   "metadata": {
    "collapsed": true
   },
   "outputs": [],
   "source": [
    "# creating the average profile for all the remaining users.\n",
    "def createUserProfile(userId):\n",
    "    UserDF = dfDict[str(userId)]\n",
    "    UserDF = UserDF.sort_values([\"daysSinceRead\",\"CombinedWeight\"],ascending=[True,False]).head(10)\n",
    "    UserArticles = UserDF.Article_Id\n",
    "    UserTopRep = TopicToDocMat[UserArticles]\n",
    "    mean_1st = np.mean(UserTopRep[:,0])\n",
    "    mean_2nd = np.mean(UserTopRep[:,1])\n",
    "    mean_3rd = np.mean(UserTopRep[:,2])\n",
    "    mean_4th = np.mean(UserTopRep[:,3])\n",
    "    mean_5th = np.mean(UserTopRep[:,4])\n",
    "    mean_6th = np.mean(UserTopRep[:,5])\n",
    "    UserCentProfile = np.array([mean_1st,mean_2nd,mean_3rd,mean_4th,mean_5th,mean_6th])\n",
    "    return UserCentProfile\n",
    "# create UserCentroide dataframe \n",
    "userProf = pd.DataFrame()\n",
    "for k in dfDict.keys():\n",
    "    UserCent = createUserProfile(k)\n",
    "    userProf = userProf.append(pd.DataFrame(UserCent.reshape(1,6)),ignore_index=True)\n",
    "    \n",
    "userProf[\"id\"] =list(dfDict.keys())\n",
    "\n",
    "# idea is that if we create clusters, we would get similar users in similar clusters and we will not have to count similarity b/w\n",
    "# all the user's to get matching /neighbor User\n",
    "\n",
    "from sklearn.cluster import KMeans\n",
    "newuserProf = userProf.copy()\n",
    "# droping user id as it is just ID and including it in kmeans will be misleading\n",
    "newuserProf.drop(\"id\",axis=1,inplace=True)\n",
    "# Number of clusters\n",
    "kmeans = KMeans(n_clusters=3)\n",
    "# Fitting the input data\n",
    "kmeans = kmeans.fit(newuserProf)\n",
    "# Getting the cluster labels\n",
    "labels = kmeans.predict(newuserProf)\n",
    "labels =labels+1\n",
    "userProf[\"Category\"] = labels  \n"
   ]
  },
  {
   "cell_type": "code",
   "execution_count": 387,
   "metadata": {
    "collapsed": true
   },
   "outputs": [],
   "source": [
    "# recommendation part\n",
    "# now we have come to the part where we will generate recommendations for our users.\n",
    "#We will use a slightly different approach to get recommendations. Below is the descriptions.\n",
    "# We have converted the articles into respective probability distribution for our six topics . Now instead of categorizing the articles and selecting from a \n",
    "# category , we will select articles which are more similar to user's own Probability distribution for given 6 topics.\n",
    "# since we have to give 10 recommendations, we will give 5 according to user, 3 according similar/Neighbor users and 2 which are most popular/trending.\n",
    "\n",
    "# ColdStart Problem\n",
    "# For a new user user, we may not have any articles to create user centroide and our existing framework will fail. This is known as cold start problem in recommendation space \n",
    "# where we do not know what a user will like. there are several methods to deal with it and all have their strengths and weeknesses.\n",
    "# Here we are assuming that since our users are also represented as Topic probability distribution, we might be able to create a generic profile for \n",
    "# a new user by finding an average user centroide from all available users. Since we have approximated our data randomly , we will assume this process\n",
    "# is fair and can be used till the time user's own frofile becomes available"
   ]
  },
  {
   "cell_type": "code",
   "execution_count": 522,
   "metadata": {
    "collapsed": false
   },
   "outputs": [
    {
     "name": "stdout",
     "output_type": "stream",
     "text": [
      "33\n",
      "You seems to be new to our site..\n",
      "These are some good reads liked by our users -  [3744, 2791, 2861, 2841, 2917, 2939, 4660, 2742, 2747, 2746]\n"
     ]
    }
   ],
   "source": [
    "#now we have user profiles represented as centroides of topics, we will find news articles more similar to user using cosine similarity\n",
    "# and will display them using a randomly generated rank vars\n",
    "# we will remove the articles already liked and viewed by user to get future recommendations.\n",
    "try:\n",
    "    UserId = int(input())\n",
    "    if UserId<1 or UserId>userProf.shape[0]:\n",
    "        top10Art = GetNewUserRecommendations(TopicToDocMat)\n",
    "        print (\"You seems to be new to our site..\")\n",
    "        print (\"These are some good reads liked by our users - \",top10Art)\n",
    "    else:\n",
    "        UserRecommendations =getRecommendationsExistingUser(UserId)\n",
    "        print(\"Top Recommendations for user\",UserRecommendations)\n",
    "except:\n",
    "    print(\"please enter a numeric ID\")\n"
   ]
  },
  {
   "cell_type": "code",
   "execution_count": 490,
   "metadata": {
    "collapsed": false
   },
   "outputs": [],
   "source": [
    "\n",
    "def GetRemainingRecommendations(UserRecommendations,combinedDF,ID,remaingItems):\n",
    "    combinedDFNew = combinedDF.copy()\n",
    "    \n",
    "    UserDF = dfDict[str(ID)]\n",
    "    ArticleToExclude = list(UserDF.Article_Id)\n",
    "    ArticleToExclude.extend(UserRecommendations)\n",
    "   \n",
    "    RemaingDF = combinedDFNew[~combinedDFNew[\"Article_Id\"].isin(ArticleToExclude)].copy()\n",
    "    RemaingDF =RemaingDF.sort_values([\"CombinedWeight\"],ascending=[False]).head(remaingItems)\n",
    "    ArticleToInclude = list(RemaingDF.Article_Id)\n",
    "    UserRecommendations.extend(ArticleToInclude)\n",
    "    return UserRecommendations\n",
    "\n",
    "def GetUserRecommendations(ID):\n",
    "    UserDF = dfDict[str(ID)]\n",
    "    ArticleToExclude = UserDF.Article_Id\n",
    "    RemaingDF = news_df[~news_df[\"Article_Id\"].isin(ArticleToExclude)].copy()\n",
    "    #Now we also need to get the Portion of TopicToDoc matrix which was not related to our user\n",
    "    # since TopicToDocMat matrix is organised according to Article ids as these are also starting from 1\n",
    "    RemTopicToDoCMat = TopicToDocMat[RemaingDF.Article_Id]\n",
    "    # get user centraoide\n",
    "    usercent = np.array(userProf.loc[userProf[\"id\"]==str(ID),[0,1,2,3,4,5]]).reshape(1,6)\n",
    "    #Now we can create  a similarity matrix to find similar movies according to TopicUserMatrix\n",
    "    UserMergedMatrix = np.concatenate([usercent,RemTopicToDoCMat])\n",
    "    from sklearn.metrics.pairwise import linear_kernel\n",
    "    cosSimilarity = linear_kernel(UserMergedMatrix,UserMergedMatrix)\n",
    "    # get 5 most similar articles\n",
    "    top5Art = list(cosSimilarity[1].argsort()[:-6:-1])\n",
    "    return top5Art\n",
    "\n",
    "def getSimilarUser(UserId):\n",
    "    #to get similar users from given user\n",
    "    userCat = userProf.loc[(userProf[\"id\"]==str(UserId)),\"Category\"].copy()\n",
    "    userCat =  userCat.tolist()\n",
    "    userCat[0]\n",
    "    userOfCat = userProf.loc[userProf[\"Category\"]==userCat,[\"id\"]].copy()\n",
    "    userOfCat= userOfCat.loc[~(userOfCat[\"id\"]==str(UserId)),[\"id\"]].copy()\n",
    "    userOfCat = list(userOfCat.id)\n",
    "    return userOfCat\n",
    "\n",
    "def getCollabRecommendation(userOfCat):\n",
    "    Collablist =[]\n",
    "    for u in userOfCat:\n",
    "        UserRecs = GetUserRecommendations(u)\n",
    "        Collablist.extend(UserRecs)\n",
    "    return Collablist\n",
    "\n",
    "def getRecommendationsExistingUser(UserId):\n",
    "    \n",
    "    UserRecommendations = GetUserRecommendations(UserId)\n",
    "    SimilarUser = getSimilarUser(UserId)\n",
    "    # Getting articles fro these users to provide collaborative recommendations\n",
    "    # here we are getting recommendations for these neighbors, we could fetch top movies rated byt these users as well\n",
    "    Collablist =getCollabRecommendation(userOfCat)\n",
    "\n",
    "    # create logic For 10 recommendations\n",
    "    TotalRec =10\n",
    "    AvlRec =len(UserRecommendations)\n",
    "    NeededRecs = TotalRec-AvlRec\n",
    "    # Getting remaining Recs from CollabList using random sampling and removing duplicates\n",
    "\n",
    "    UniqueRecs = list(set(Collablist).difference(UserRecommendations))\n",
    "    if len(UniqueRecs)==0:\n",
    "        UserRecommendations =UserRecommendations\n",
    "\n",
    "    elif len(UniqueRecs)>=5:\n",
    "\n",
    "        renRecs = list(np.random.choice(UniqueRecs,5,replace=False))\n",
    "        UserRecommendations.extend(renRecs) \n",
    "    else:\n",
    "        renRecs = list(np.random.choice(UniqueRecs,len(UniqueRecs),replace=False))\n",
    "        UserRecommendations.extend(renRecs)\n",
    "\n",
    "    # Now check if total recommendations are less than 10. If yes, random remaining randomly based on the basis of popularity \n",
    "    AvlRec =len(UserRecommendations)\n",
    "    NeededRecs = TotalRec-AvlRec\n",
    "    \n",
    "    if NeededRecs>0:\n",
    "        UserRecommendations = GetRemainingRecommendations(UserRecommendations,combinedDF,UserId,NeededRecs)\n",
    "    UserRecommendations = list(np.random.choice(UserRecommendations,len(UserRecommendations),replace=False))\n",
    "    return UserRecommendations\n",
    "\n",
    "# creating the average profile for new user from  the available users.\n",
    "def createAverageUserProfile(userProf):\n",
    "    UserDF = userProf.copy()\n",
    "    UserDF.drop([\"id\",\"Category\"],axis=1,inplace=True)\n",
    "    UserDF =np.array(UserDF)\n",
    "    mean_1st = np.mean(UserDF[:,0])\n",
    "    mean_2nd = np.mean(UserDF[:,1])\n",
    "    mean_3rd = np.mean(UserDF[:,2])\n",
    "    mean_4th = np.mean(UserDF[:,3])\n",
    "    mean_5th = np.mean(UserDF[:,4])\n",
    "    mean_6th = np.mean(UserDF[:,5])\n",
    "    UserCentProfile = np.array([mean_1st,mean_2nd,mean_3rd,mean_4th,mean_5th,mean_6th])\n",
    "    return UserCentProfile\n",
    "\n",
    "def GetNewUserRecommendations(TopicToDocMat):\n",
    "    AvgUserCent = createAverageUserProfile(userProf)\n",
    "    RemTopicToDoCMat = TopicToDocMat\n",
    "    # get user centraoide\n",
    "    usercent = AvgUserCent.reshape(1,6)\n",
    "    #Now we can create  a similarity matrix to find similar movies according to TopicUserMatrix\n",
    "    UserMergedMatrix = np.concatenate([usercent,RemTopicToDoCMat])\n",
    "    from sklearn.metrics.pairwise import linear_kernel\n",
    "    cosSimilarity = linear_kernel(UserMergedMatrix,UserMergedMatrix)\n",
    "    # get 5 most similar articles\n",
    "    top10Art = list(cosSimilarity[1].argsort()[:-11:-1])\n",
    "    return top10Art\n",
    "\n",
    "\n"
   ]
  },
  {
   "cell_type": "code",
   "execution_count": 397,
   "metadata": {
    "collapsed": true
   },
   "outputs": [],
   "source": [
    "# Now when we have found matching recommendation for user, we will focus on  recommendations from other similar users\n",
    "# I will try using DBScan to find siilar users.the basis is that I don't need to provide number of clustes and I don't want to use cosine similarity.\n",
    "# DB scan has many advantages and disadvantages.\n",
    "# advantages -  we don't need to provide number of clusters\n",
    "#               It can find arbritrary shapes\n",
    "#               It is very fast\n",
    "# DisAdvantage -It is very sensitive to parameters you choose to initialize such as min_sample and epsilon\n",
    "\n",
    "# The summary of this algorithm is:\n",
    "# Step 1: For each point in the dataset, we draw a n-dimensional sphere of radius epsilon around the point (if you have n-dimensional data).\n",
    "# Step 2: If the number of points inside the sphere is larger than min_samples, we set the center of the sphere as a cluster, and all the points within the sphere are belong to this cluster.\n",
    "# Step 3: Loop through all the points within the sphere with the above 2 steps, and expand the cluster whenever it satisfy the 2 rules.\n",
    "# Step 4: For the points not belong to any cluster, you can ignore them, or treat them as outliers. \n",
    "# from sklearn.cluster import DBSCAN\n",
    "\n",
    "# epsilon = .01\n",
    "\n",
    "# # Run the DBSCAN from sklearn\n",
    "# db = DBSCAN(eps=epsilon, min_samples=2).fit(newuserProf)\n",
    "# #labels = db.labels_\n"
   ]
  },
  {
   "cell_type": "code",
   "execution_count": null,
   "metadata": {
    "collapsed": true
   },
   "outputs": [],
   "source": []
  }
 ],
 "metadata": {
  "anaconda-cloud": {},
  "kernelspec": {
   "display_name": "Python [default]",
   "language": "python",
   "name": "python3"
  },
  "language_info": {
   "codemirror_mode": {
    "name": "ipython",
    "version": 3
   },
   "file_extension": ".py",
   "mimetype": "text/x-python",
   "name": "python",
   "nbconvert_exporter": "python",
   "pygments_lexer": "ipython3",
   "version": "3.5.2"
  }
 },
 "nbformat": 4,
 "nbformat_minor": 1
}
